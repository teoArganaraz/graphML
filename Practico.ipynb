{
 "cells": [
  {
   "cell_type": "markdown",
   "id": "a4c2b695",
   "metadata": {
    "id": "ie_0fWt98fxV"
   },
   "source": [
    "**Grupo:**\n",
    "\n",
    "*  Teo Argañaraz (materia completa)\n",
    "*  Marilina Trevisan (materia completa)\n",
    "*  Ana Legaspi (materia completa)\n",
    "*  Florencia Molina (materia completa)\n",
    "*  Elena Rufeil Fiori (materia completa)\n"
   ]
  },
  {
   "cell_type": "markdown",
   "id": "9dd9d9cd",
   "metadata": {
    "id": "sASMvrUL8iAE"
   },
   "source": [
    "<h1><center><font size=\"15\">\n",
    "Análisis de Grafos\n",
    "</font></center></h1>"
   ]
  },
  {
   "cell_type": "markdown",
   "id": "a17e628d",
   "metadata": {
    "id": "9txZFQf68rsM"
   },
   "source": [
    "<center><b>Nahuel Almeira</b></center>"
   ]
  },
  {
   "cell_type": "markdown",
   "id": "bca9390d",
   "metadata": {
    "id": "a49e9927-f016-4660-89df-26c5800aea8b"
   },
   "source": [
    "# Práctico"
   ]
  },
  {
   "cell_type": "markdown",
   "id": "83e41e20",
   "metadata": {
    "id": "5fe2ae9e-6076-4a12-931c-5349ee7eb2d3"
   },
   "source": [
    "El trabajo práctico de la materia consiste en el análisis de un conjunto de datos extraído de Twitter. La idea es emplear los conceptos de grafos vistos en clase sobre un caso real de actualidad.\n",
    "\n",
    "## Dataset\n",
    "\n",
    "El dataset consiste en un conjunto de hilos de tweets, con un total de ~150000 tweets, extraídos entre Enero y Marzo de 2021. La temática de los mismos está referida a la vacunación contra el covid-19 en Argentina.\n",
    "\n",
    "Pueden descargar el dataset del siguiente [link](https://drive.google.com/file/d/1X_qKsE8muAnom2tDX4sLlmBAO0Ikfe_G/view?usp=sharing).\n",
    "\n",
    "### Campos\n",
    "\n",
    "- **created_at:** Fecha del tweet\n",
    "- **id_str:** ID del tweet\n",
    "- **full_text:** Contenido del tweet\n",
    "- **in_reply_to_status_id:** ID del tweet inmediatamente anterior en el hilo\n",
    "- **in_reply_to_user_id:** Autor del tweet inmediatamente anterior en el hilo\n",
    "- **user.id:** Autor del tweet\n",
    "- **user_retweeters:** Lista de ID de usuarios que retweetearon el tweet\n",
    "- **sentiment:** Etiquetado manual que indica el sentimiento o intención del tweet con respecto al tweet anterior en el hilo"
   ]
  },
  {
   "cell_type": "markdown",
   "id": "cdb43635",
   "metadata": {
    "id": "8eed8c8b-8c40-4d18-b4ad-c853e1c3b7d1"
   },
   "source": [
    "## Configuración inicial"
   ]
  },
  {
   "cell_type": "code",
   "execution_count": 2,
   "id": "19a69498",
   "metadata": {
    "colab": {
     "background_save": true
    },
    "id": "a23c83a7-0c4e-4bff-b8cb-253671e5d1d6"
   },
   "outputs": [],
   "source": [
    "import pandas as pd\n",
    "from pathlib import Path\n",
    "import matplotlib.pyplot as plt\n",
    "import seaborn as sns\n",
    "%matplotlib inline\n",
    "\n",
    "sns.set_context('talk')\n",
    "\n",
    "## Descargar el csv con los datos en este directorio\n",
    "#DATA_DIR = Path('../data/twitter')\n",
    "#INPUT_FILE = DATA_DIR / 'vacunas.csv'\n",
    "\n",
    "## Creamos el directorio en caso de que no exista\n",
    "#DATA_DIR.mkdir(parents=True, exist_ok=True)\n",
    "\n",
    "## Montamos el archivo desde el drive\n",
    "#from google.colab import drive\n",
    "#drive.mount('/content/drive')\n",
    "#SHARED_FOLDER_ALIAS = 'Diplo_grafos'\n",
    "#DATASETS_PATH = '/content/drive/MyDrive/' + SHARED_FOLDER_ALIAS + '/data_preprocessed/'\n",
    "\n",
    "## Importamos la base desde la computadora"
   ]
  },
  {
   "cell_type": "markdown",
   "id": "d5217f45",
   "metadata": {
    "id": "acf6889f-86be-4fc8-b281-a738b8d475c4"
   },
   "source": [
    "### Cargamos el dataset"
   ]
  },
  {
   "cell_type": "code",
   "execution_count": 220,
   "id": "a84b3ec1",
   "metadata": {
    "colab": {
     "background_save": true
    },
    "id": "e43cef47-be3b-47ba-9a07-9373013580ec"
   },
   "outputs": [
    {
     "name": "stdout",
     "output_type": "stream",
     "text": [
      "(155123, 8)\n"
     ]
    },
    {
     "data": {
      "text/html": [
       "<div>\n",
       "<style scoped>\n",
       "    .dataframe tbody tr th:only-of-type {\n",
       "        vertical-align: middle;\n",
       "    }\n",
       "\n",
       "    .dataframe tbody tr th {\n",
       "        vertical-align: top;\n",
       "    }\n",
       "\n",
       "    .dataframe thead th {\n",
       "        text-align: right;\n",
       "    }\n",
       "</style>\n",
       "<table border=\"1\" class=\"dataframe\">\n",
       "  <thead>\n",
       "    <tr style=\"text-align: right;\">\n",
       "      <th></th>\n",
       "      <th>created_at</th>\n",
       "      <th>id_str</th>\n",
       "      <th>full_text</th>\n",
       "      <th>in_reply_to_status_id</th>\n",
       "      <th>in_reply_to_user_id</th>\n",
       "      <th>user.id</th>\n",
       "      <th>user_retweeters</th>\n",
       "      <th>sentiment</th>\n",
       "    </tr>\n",
       "  </thead>\n",
       "  <tbody>\n",
       "    <tr>\n",
       "      <th>0</th>\n",
       "      <td>Sat Feb 20 03:09:10 +0000 2021</td>\n",
       "      <td>1362962469749153792</td>\n",
       "      <td>Seguimos esperando el comunicado de @norabar r...</td>\n",
       "      <td>NaN</td>\n",
       "      <td>NaN</td>\n",
       "      <td>2737379453</td>\n",
       "      <td>[2258074658, 159909978, 105301854, 290671142, ...</td>\n",
       "      <td>NaN</td>\n",
       "    </tr>\n",
       "    <tr>\n",
       "      <th>1</th>\n",
       "      <td>Sat Feb 20 03:19:59 +0000 2021</td>\n",
       "      <td>1362965193509265417</td>\n",
       "      <td>@Clon_43 @norabar Nora estaba indignada porque...</td>\n",
       "      <td>1362962469749153792</td>\n",
       "      <td>2737379453</td>\n",
       "      <td>32718111</td>\n",
       "      <td>[]</td>\n",
       "      <td>NaN</td>\n",
       "    </tr>\n",
       "    <tr>\n",
       "      <th>2</th>\n",
       "      <td>Mon Feb 22 23:55:08 +0000 2021</td>\n",
       "      <td>1364000806740111363</td>\n",
       "      <td>Bueno, Alberto dijo Salud o Economía. La salud...</td>\n",
       "      <td>NaN</td>\n",
       "      <td>NaN</td>\n",
       "      <td>252168075</td>\n",
       "      <td>[1238117630696972289, 37232479, 12792246571247...</td>\n",
       "      <td>NaN</td>\n",
       "    </tr>\n",
       "    <tr>\n",
       "      <th>3</th>\n",
       "      <td>Tue Feb 23 00:09:14 +0000 2021</td>\n",
       "      <td>1364004354374696963</td>\n",
       "      <td>@spitta1969 Tuit del mes Spitta</td>\n",
       "      <td>1364000806740111363</td>\n",
       "      <td>252168075</td>\n",
       "      <td>1156346340802224128</td>\n",
       "      <td>[]</td>\n",
       "      <td>NaN</td>\n",
       "    </tr>\n",
       "    <tr>\n",
       "      <th>4</th>\n",
       "      <td>Tue Feb 23 00:00:17 +0000 2021</td>\n",
       "      <td>1364002100364128260</td>\n",
       "      <td>@spitta1969 Estas onfire</td>\n",
       "      <td>1364000806740111363</td>\n",
       "      <td>252168075</td>\n",
       "      <td>153663816</td>\n",
       "      <td>[]</td>\n",
       "      <td>NaN</td>\n",
       "    </tr>\n",
       "  </tbody>\n",
       "</table>\n",
       "</div>"
      ],
      "text/plain": [
       "                       created_at               id_str  \\\n",
       "0  Sat Feb 20 03:09:10 +0000 2021  1362962469749153792   \n",
       "1  Sat Feb 20 03:19:59 +0000 2021  1362965193509265417   \n",
       "2  Mon Feb 22 23:55:08 +0000 2021  1364000806740111363   \n",
       "3  Tue Feb 23 00:09:14 +0000 2021  1364004354374696963   \n",
       "4  Tue Feb 23 00:00:17 +0000 2021  1364002100364128260   \n",
       "\n",
       "                                           full_text in_reply_to_status_id  \\\n",
       "0  Seguimos esperando el comunicado de @norabar r...                   NaN   \n",
       "1  @Clon_43 @norabar Nora estaba indignada porque...   1362962469749153792   \n",
       "2  Bueno, Alberto dijo Salud o Economía. La salud...                   NaN   \n",
       "3                    @spitta1969 Tuit del mes Spitta   1364000806740111363   \n",
       "4                           @spitta1969 Estas onfire   1364000806740111363   \n",
       "\n",
       "  in_reply_to_user_id              user.id  \\\n",
       "0                 NaN           2737379453   \n",
       "1          2737379453             32718111   \n",
       "2                 NaN            252168075   \n",
       "3           252168075  1156346340802224128   \n",
       "4           252168075            153663816   \n",
       "\n",
       "                                     user_retweeters sentiment  \n",
       "0  [2258074658, 159909978, 105301854, 290671142, ...       NaN  \n",
       "1                                                 []       NaN  \n",
       "2  [1238117630696972289, 37232479, 12792246571247...       NaN  \n",
       "3                                                 []       NaN  \n",
       "4                                                 []       NaN  "
      ]
     },
     "execution_count": 220,
     "metadata": {},
     "output_type": "execute_result"
    }
   ],
   "source": [
    "dtypes = {\n",
    "    'id_str': str,\n",
    "    'full_text': str,\n",
    "    'in_reply_to_status_id': str,\n",
    "    'in_reply_to_user_id': str,\n",
    "    'user.id': str\n",
    "}\n",
    "df = pd.read_csv('vacunas.csv', dtype=dtypes).dropna(subset=['user_retweeters'])\n",
    "df['user_retweeters'] = df['user_retweeters'].apply(lambda x: [str(elem) for elem in eval(x)])\n",
    "print(df.shape)\n",
    "df.head()"
   ]
  },
  {
   "cell_type": "markdown",
   "id": "474aaa81",
   "metadata": {
    "id": "bd778ff2-c52b-4541-83bb-ab515e233fb3"
   },
   "source": [
    "### Observamos algunos ejemplos"
   ]
  },
  {
   "cell_type": "code",
   "execution_count": null,
   "id": "530b1b57",
   "metadata": {
    "colab": {
     "background_save": true
    },
    "id": "626fb5fa-2875-47c0-9e30-cb1a456a1c13"
   },
   "outputs": [],
   "source": [
    "idx = 0\n",
    "print('Texto:', df.full_text.values[idx])\n",
    "print('Retweets:', len(df.user_retweeters.values[idx]))"
   ]
  },
  {
   "cell_type": "code",
   "execution_count": null,
   "id": "379b4b0c",
   "metadata": {
    "colab": {
     "background_save": true
    },
    "id": "f6ca9ab4-d966-4613-8d06-b139b30255b8"
   },
   "outputs": [],
   "source": [
    "idx = 376\n",
    "print('Text:', df.full_text.values[idx])\n",
    "print('Retweets:', len(df.user_retweeters.values[idx]))"
   ]
  },
  {
   "cell_type": "markdown",
   "id": "15fc9709",
   "metadata": {
    "id": "1d3911d7-cc49-4d84-95b6-4f096f5f56c3"
   },
   "source": [
    "### Calculamos la cantidad de hilos"
   ]
  },
  {
   "cell_type": "code",
   "execution_count": null,
   "id": "d77d935f",
   "metadata": {
    "colab": {
     "background_save": true
    },
    "id": "59b6c11f-5766-45e4-a264-f3733df8694d"
   },
   "outputs": [],
   "source": [
    "roots = df[df['in_reply_to_user_id'].isna()]\n",
    "roots.shape"
   ]
  },
  {
   "cell_type": "markdown",
   "id": "b23b495f",
   "metadata": {
    "id": "9258ad30-e325-45ce-94e8-9e0ec4317df4"
   },
   "source": [
    "## Actividades"
   ]
  },
  {
   "cell_type": "markdown",
   "id": "388c7dc9",
   "metadata": {
    "id": "70f377d2-6e8d-437c-ab01-1a314b7af7eb"
   },
   "source": [
    "### Primera parte\n",
    "\n",
    "#### **1. Construcción del grafo** \n",
    "\n",
    "Construir el **grafo de retweets**, definido de la siguiente manera:\n",
    "\n",
    "- Tipo de grafo: Dirigido\n",
    "- Nodos: ID de los usuarios\n",
    "- Enlaces: (Usuario A) ---> (Usuario B) si B retweeteó algún tweet de A\n",
    "\n",
    "Con estos datos, el grafo debería tener alrededor de 40000 nodos y 90000 enlaces.\n",
    "\n",
    "Considerar la versión no dirigida del grafo y estudiar su conectividad. Si existe una única \"componente gigante\", realizar el resto de las actividades sobre ella, en lugar de sobre el grafo completo.\n",
    "\n",
    "Calcular las siguientes métricas globales del grafo:\n",
    "\n",
    "- Grado medio\n",
    "- Asortatividad\n",
    "- Transitividad\n",
    "- Coeficiente de clustering de Watts-Strogatz\n",
    "\n",
    "**Opcional:** Comparar las métricas calculadas anteriormente con las de un grafo aleatorio con la misma distribución de grado. Pueden utilizar para ello este [método](https://networkx.org/documentation/stable/reference/generated/networkx.generators.degree_seq.configuration_model.html?highlight=configuration#networkx.generators.degree_seq.configuration_model). Con esto en mente, comentar si los valores obtenidos anteriormente difieren significativamente del caso aleatorio.\n",
    "\n",
    "\n",
    "#### **2. Centralidad**\n",
    "\n",
    "Calcular 5 métricas de centralidad de nodos. Graficar la distribución de cada una de ellas ¿Existe alguna correlación entre las distintas centralidades? \n",
    "\n",
    "Hacer un ranking con los 10 nodos más centrales para cada métrica. ¿Hay coincidencia entre los rankings?. ¿Qué características tienen los usuarios más centrales y sus respectivos tweets?\n",
    "\n",
    "**Opcional:** Determinar si existe alguna correlación entre la centralidad de un nodo y su actividad en red social. Es decir, evaluar si los usuarios que más escriben son los más centrales o no.\n",
    "\n",
    "#### **3. Comunidades**\n",
    "\n",
    "Utilizar el algoritmo de Louvain con el parámetro \"resolución\" igual a 1. Caracterizar las comunidades halladas (cantidad, distribución de tamaños). Utilizar la modularidad y otras dos métricas a elección para evaluar la calidad de la partición encontrada. \n",
    "\n",
    "Variar el parámetro \"resolución\" y observar cómo cambia la distribución de comunidades encontradas. ¿Existe algún valor para el cual se identifiquen dos grandes comunidades?\n",
    "\n",
    "Elegir otro algoritmo de detección de comunidades y comparar los resultados con los obtenidos anteriormente.\n",
    "\n",
    "**Opcional:** Correr el algoritmo de Louvain con distintas semillas aleatorias. Utilizar alguna métrica de comparación externa entre las particiones obtenidas para determinar en qué medida depende el algoritmo de la condición inicial."
   ]
  },
  {
   "cell_type": "markdown",
   "id": "5281d408",
   "metadata": {
    "id": "079e39e1-9b78-4b44-9743-604bf0ca5a3a"
   },
   "source": [
    "### Segunda parte\n",
    "\n",
    "### **4. Extracción de etiquetas**\n",
    "\n",
    "En el archivo [etiquetas.csv](https://drive.google.com/file/d/1LWY3VoIRt0xKwEbbtMXYePOGZvgPsQh-/view?usp=sharing) están las etiquetas para un pequeño subconjunto de nodos. Podemos interpretar el valor de la etiqueta como la pertenencia a una determinada clase, donde los usuarios de una misma clase en general tienden a expresar apoyo entre sí.\n",
    "\n",
    "- Determinar quiénes son los usuarios referentes de cada clase (utilizar alguna medida de centralidad calculada sobre el grafo de retweets).\n",
    "- Utiliando los resultados del práctico anterior, determinar si los usuarios de cada clase forman parte de distintas comunidades.\n",
    "\n",
    "**Opcional:** Reconstruir el archivo \"etiquetas.csv\". Para eso, hacer lo siguiente\n",
    "\n",
    "- Construir un grafo en donde los nodos sean usuarios, y donde los enlaces unan dos nodos si entre ellos hubo más respuestas de apoyo que de oposición.\n",
    "- Extraer las dos componentes más grandes del grafo. Esos serán nuestros nodos etiquetados.\n",
    "\n",
    "### **5. Embedding de nodos**\n",
    "\n",
    "- Generar un embedding del grafo de retweets utilizando el algoritmo `word2vec`.\n",
    "- Reducir a 2 la dimensionalidad del embedding utilizando [PCA](https://scikit-learn.org/stable/modules/generated/sklearn.decomposition.PCA.htmlhttps://scikit-learn.org/stable/modules/generated/sklearn.decomposition.PCA.html) y [t-SNE](https://scikit-learn.org/stable/modules/generated/sklearn.manifold.TSNE.htmlhttps://scikit-learn.org/stable/modules/generated/sklearn.manifold.TSNE.html).\n",
    "- Graficar los embeddings correspondientes a los datos etiquetados. ¿Es posible diferenciar unos de otros?\n",
    "\n",
    "**Opcional:** Graficar además los embeddings de los nodos que forman parte de las comunidades asociadas a cada clase. Determinar si el embedding permite distinguir cada comunidad.\n",
    "\n",
    "### **Opcional: 6. Redes neuronales de grafos**\n",
    "\n",
    "El archivo [word_vectors.csv](https://drive.google.com/file/d/1aoxugyMktKb0NQ8Pf3bdhKvh8BAj7YZz/view?usp=sharing) contiene un embedding de 300 dimensiones para cada tweet, otenido utilizando un modelo preentrenado de [FastText](https://fasttext.cc/). Construir una matriz de features para los nodos tomando, para cada usuario, el promedio de los vectores correspondientes a los tweets que escribió. Utilizando estos features, y tomando como ejemplos etiquetados los usuarios de \"etiquetas.csv\" entrenar una red neuronal de grafos para realizar una clasificación binaria sobre el resto de los nodos. Pueden utilizar como base el siguiente modelo:"
   ]
  },
  {
   "cell_type": "code",
   "execution_count": null,
   "id": "683c586b",
   "metadata": {
    "colab": {
     "background_save": true
    },
    "id": "d5333b57-a167-46a6-af83-95d1960921d5"
   },
   "outputs": [],
   "source": [
    "class GCN(torch.nn.Module):\n",
    "    def __init__(self):\n",
    "        super(GCN, self).__init__()\n",
    "        torch.manual_seed(1234)\n",
    "        self.conv1 = GCNConv(dataset.num_features, 4)\n",
    "        self.conv2 = GCNConv(4, 4)\n",
    "        self.conv3 = GCNConv(4, 2)\n",
    "        self.classifier = Linear(2, dataset.num_classes)\n",
    "\n",
    "    def forward(self, x, edge_index):\n",
    "        h = self.conv1(x, edge_index)\n",
    "        h = h.tanh()\n",
    "        h = self.conv2(h, edge_index)\n",
    "        h = h.tanh()\n",
    "        h = self.conv3(h, edge_index)\n",
    "        h = h.tanh()  # Embedding final\n",
    "        \n",
    "        # Aplicamos un clasificador lineal sobre el embedding\n",
    "        out = self.classifier(h)\n",
    "\n",
    "        return out, h"
   ]
  },
  {
   "cell_type": "markdown",
   "id": "4366576a",
   "metadata": {
    "id": "319c67f8-f2aa-4b95-8f0a-9a6c8f28b221"
   },
   "source": [
    "**Observación:** para alimentar la red neuronal, es necesario construir un objeto de la clase `Dataset` de PyTorch-Geometric. Una forma de hacer eso es la siguiente"
   ]
  },
  {
   "cell_type": "code",
   "execution_count": null,
   "id": "d61442ed",
   "metadata": {
    "colab": {
     "background_save": true
    },
    "id": "3bc2f06b-eb86-4970-ba98-618267618521"
   },
   "outputs": [],
   "source": [
    "from torch_geometric.data import InMemoryDataset, Data\n",
    "\n",
    "## Reemplazar por el grafo correspondiente\n",
    "g = nx.Graph()\n",
    "\n",
    "## Etiquetas. Reemplazar por las clases del archivo 'etiquetas.csv'.\n",
    "## Asignar la clase '2' a los ejemplos no etiquetados\n",
    "labels = [1, 0, 2, ..., 1]\n",
    "\n",
    "## True si el ejemplo está etiquetado (clases 0 y 1)\n",
    "train_idx = [True, True, False, ..., True]\n",
    "\n",
    "## Matriz de features (word vectors)\n",
    "features = ...\n",
    "\n",
    "adj = nx.to_scipy_sparse_matrix(g).tocoo()\n",
    "row = torch.from_numpy(adj.row.astype(np.int64)).to(torch.long)\n",
    "col = torch.from_numpy(adj.col.astype(np.int64)).to(torch.long)\n",
    "edge_index = torch.stack([row, col], dim=0)\n",
    "\n",
    "\n",
    "class TwitterDataset(InMemoryDataset):\n",
    "    def __init__(self, transform=None):\n",
    "        super(TwitterDataset, self).__init__('.', transform, None, None)\n",
    "\n",
    "        data = Data(edge_index=edge_index)\n",
    "        \n",
    "        data.num_nodes = g.number_of_nodes()\n",
    "        \n",
    "        # Features \n",
    "        data.x = torch.from_numpy(features).type(torch.float32)\n",
    "        \n",
    "        # Etiquetas\n",
    "        y = torch.from_numpy(labels).type(torch.long)\n",
    "        data.y = y.clone().detach()\n",
    "        \n",
    "        data.num_classes = 2\n",
    "        \n",
    "        n_nodes = g.number_of_nodes()\n",
    "        \n",
    "        # create train and test masks for data\n",
    "        train_mask = torch.zeros(n_nodes, dtype=torch.bool)\n",
    "        train_mask[train_idx] = True\n",
    "        data['train_mask'] = train_mask\n",
    "\n",
    "        self.data, self.slices = self.collate([data])\n",
    "\n",
    "    def _download(self):\n",
    "        return\n",
    "\n",
    "    def _process(self):\n",
    "        return\n",
    "\n",
    "    def __repr__(self):\n",
    "        return '{}()'.format(self.__class__.__name__)"
   ]
  },
  {
   "cell_type": "markdown",
   "id": "926c09eb",
   "metadata": {
    "id": "-lazbSu1LA7_"
   },
   "source": [
    "# Resolución"
   ]
  },
  {
   "cell_type": "markdown",
   "id": "6fa54d85",
   "metadata": {
    "id": "oiuKMlb2LqHv"
   },
   "source": [
    "## **Ejercicio 1**\n",
    "\n",
    "Construir el **grafo de retweets**, definido de la siguiente manera:\n",
    "\n",
    "- Tipo de grafo: Dirigido\n",
    "- Nodos: ID de los usuarios\n",
    "- Enlaces: (Usuario A) ---> (Usuario B) si B retweeteó algún tweet de A\n",
    "\n",
    "Con estos datos, el grafo debería tener alrededor de 40000 nodos y 90000 enlaces.\n",
    "\n",
    "Considerar la versión no dirigida del grafo y estudiar su conectividad. Si existe una única \"componente gigante\", realizar el resto de las actividades sobre ella, en lugar de sobre el grafo completo.\n",
    "\n",
    "Calcular las siguientes métricas globales del grafo:\n",
    "\n",
    "- Grado medio\n",
    "- Asortatividad\n",
    "- Transitividad\n",
    "- Coeficiente de clustering de Watts-Strogatz\n",
    "\n",
    "**Opcional:** Comparar las métricas calculadas anteriormente con las de un grafo aleatorio con la misma distribución de grado. Pueden utilizar para ello este [método](https://networkx.org/documentation/stable/reference/generated/networkx.generators.degree_seq.configuration_model.html?highlight=configuration#networkx.generators.degree_seq.configuration_model). Con esto en mente, comentar si los valores obtenidos anteriormente difieren significativamente del caso aleatorio."
   ]
  },
  {
   "cell_type": "markdown",
   "id": "8239e11b",
   "metadata": {
    "id": "bcfe035c-4e1b-4e77-ac29-00163a33e426"
   },
   "source": [
    "### **Construcción del grafo**\n",
    "Construir el grafo de retweets, definido de la siguiente manera:\n",
    "\n",
    "Tipo de grafo: Dirigido  \n",
    "Nodos: ID de los usuarios  \n",
    "Enlaces: (Usuario A) ---> (Usuario B) si B retweeteó algún tweet de A\n",
    "\n",
    "\n",
    "**Opcional:** Comparar las métricas calculadas anteriormente con las de un grafo aleatorio con la misma distribución de grado. Pueden utilizar para ello este [método](https://networkx.org/documentation/stable/reference/generated/networkx.generators.degree_seq.configuration_model.html?highlight=configuration#networkx.generators.degree_seq.configuration_model). Con esto en mente, comentar si los valores obtenidos anteriormente difieren significativamente del caso aleatorio.\n",
    "\n"
   ]
  },
  {
   "cell_type": "code",
   "execution_count": 113,
   "id": "f3c4f803",
   "metadata": {
    "colab": {
     "background_save": true
    },
    "id": "872e56a2-82c6-4f83-bc2e-f76525f6c963"
   },
   "outputs": [],
   "source": [
    "import networkx as nx\n",
    "import numpy as np"
   ]
  },
  {
   "cell_type": "code",
   "execution_count": 132,
   "id": "0a6c5ab0",
   "metadata": {
    "colab": {
     "background_save": true
    },
    "id": "ac2acaa7-ad8c-487a-a1ab-e7cb48673f70"
   },
   "outputs": [],
   "source": [
    "df_filter = df[['user.id', 'user_retweeters']]\n",
    "df_graph = df_filter.explode('user_retweeters').reset_index(drop=True).dropna() # Con el dropeo de los no retweeteados da los valores sugeridos"
   ]
  },
  {
   "cell_type": "code",
   "execution_count": 120,
   "id": "cd275c57",
   "metadata": {
    "colab": {
     "background_save": true
    },
    "id": "30d40983-f03b-405b-b443-c5af9f808bbf"
   },
   "outputs": [],
   "source": [
    "G = nx.from_pandas_edgelist(df_graph, source='user.id', target='user_retweeters')\n",
    "DG = nx.from_pandas_edgelist(df_graph, source='user.id', target='user_retweeters', create_using=nx.DiGraph())"
   ]
  },
  {
   "cell_type": "markdown",
   "id": "34311dfb",
   "metadata": {
    "id": "eb7e35ac-eb6b-44a4-8b36-1093c6f5a83c"
   },
   "source": [
    "Es indistinto para el calculo de nodos y vertices seleccionar el grafo dirigido o el no dirigido"
   ]
  },
  {
   "cell_type": "code",
   "execution_count": 121,
   "id": "f5947e4f",
   "metadata": {
    "colab": {
     "background_save": true
    },
    "id": "013e738c-50a1-4909-b7af-5303d0c838dd"
   },
   "outputs": [
    {
     "name": "stdout",
     "output_type": "stream",
     "text": [
      "Cantidad de nodos: 39800\n",
      "Cantidad de links: 93692\n"
     ]
    }
   ],
   "source": [
    "print(f'Cantidad de nodos: {DG.number_of_nodes()}')\n",
    "print(f'Cantidad de links: {DG.number_of_edges()}')"
   ]
  },
  {
   "cell_type": "markdown",
   "id": "ffc95ac7",
   "metadata": {
    "id": "e453fdec-3c73-4063-9b6c-140ca218ba95"
   },
   "source": [
    "Tomamos el subgrafo componente mas grande del grafo no dirigido."
   ]
  },
  {
   "cell_type": "code",
   "execution_count": 9,
   "id": "39695d05",
   "metadata": {
    "colab": {
     "background_save": true
    },
    "id": "94944459-f1dd-43ec-809e-ae1da29cef92"
   },
   "outputs": [],
   "source": [
    "graph_components = [len(c) for c in sorted(nx.connected_components(G), key=len, reverse=True)]\n",
    "S = [G.subgraph(c).copy() for c in nx.connected_components(G)]\n",
    "G_s = S[0] #componente conexa más grande del Grafo no dirigido"
   ]
  },
  {
   "cell_type": "code",
   "execution_count": 122,
   "id": "67ee0a0b",
   "metadata": {
    "colab": {
     "background_save": true
    },
    "id": "09b7552d-6428-4d3c-84ad-fab97e0fe861"
   },
   "outputs": [
    {
     "name": "stdout",
     "output_type": "stream",
     "text": [
      "Cantidad de nodos: 38998\n",
      "Cantidad de links: 92830\n"
     ]
    }
   ],
   "source": [
    "print(f'Cantidad de nodos: {G_s.number_of_nodes()}')\n",
    "print(f'Cantidad de links: {G_s.number_of_edges()}')"
   ]
  },
  {
   "cell_type": "code",
   "execution_count": 141,
   "id": "bf4ffe8d",
   "metadata": {
    "colab": {
     "background_save": true
    },
    "id": "6d6972bf-f84e-4112-8cdc-a2ec4fe49727"
   },
   "outputs": [],
   "source": [
    "df_nodes = pd.DataFrame(index=list(G_s.nodes()))\n",
    "deg_seq = np.array([k for v, k in G_s.degree()])\n",
    "clustering_coefficient = nx.clustering(G_s)\n",
    "\n",
    "df_nodes['degree'] = deg_seq\n",
    "df_nodes['Cws'] = list(clustering_coefficient.values())"
   ]
  },
  {
   "cell_type": "code",
   "execution_count": 12,
   "id": "9c57a548",
   "metadata": {
    "colab": {
     "background_save": true
    },
    "id": "ee5a1ef7-11a4-474b-81ac-ed0f1eb3e574"
   },
   "outputs": [],
   "source": [
    "df_nodes = df_nodes.sort_values(by=[\"degree\"], ascending=False)\\\n",
    "            .reset_index().rename(columns={\"index\" : \"user.id\"})"
   ]
  },
  {
   "cell_type": "markdown",
   "id": "e92f203c",
   "metadata": {
    "id": "ab68a5d9-ac59-4137-81df-7a2c3e7eeef4"
   },
   "source": [
    "### Calculo metricas Globales"
   ]
  },
  {
   "cell_type": "markdown",
   "id": "b393b4ad",
   "metadata": {
    "id": "04c020a8-54f2-473a-abdc-ec1880b73564"
   },
   "source": [
    "Calculamos metricas sobre el subgrafo obtenido anteriormente."
   ]
  },
  {
   "cell_type": "markdown",
   "id": "f3a2da71",
   "metadata": {
    "id": "62347581-54bd-4908-9c03-76aba465b4b4"
   },
   "source": [
    "**Grado Medio**"
   ]
  },
  {
   "cell_type": "code",
   "execution_count": 13,
   "id": "8a1b82d9",
   "metadata": {
    "colab": {
     "background_save": true
    },
    "id": "b7d70b9a-e1f0-4a71-91b2-675aede3ddb4"
   },
   "outputs": [
    {
     "name": "stdout",
     "output_type": "stream",
     "text": [
      "El grado medio del Subgrafo global considerado es: 4.76 ~ 5\n"
     ]
    }
   ],
   "source": [
    "print(f\"El grado medio del Subgrafo global considerado es: {round(df_nodes.degree.mean(),2)} ~ {round(df_nodes.degree.mean())}\")"
   ]
  },
  {
   "cell_type": "markdown",
   "id": "50800a95",
   "metadata": {
    "id": "0408f250-5956-492b-b23e-30b60faea9d9"
   },
   "source": [
    "**Asortatividad**"
   ]
  },
  {
   "cell_type": "code",
   "execution_count": 14,
   "id": "3a1021d3",
   "metadata": {
    "colab": {
     "background_save": true
    },
    "id": "7f795742-fe38-49e4-9912-5e910a1a347a"
   },
   "outputs": [
    {
     "name": "stdout",
     "output_type": "stream",
     "text": [
      "Las medidas de similidaridad de las conexiones entre nodos de igual grado es: -0.223\n"
     ]
    }
   ],
   "source": [
    "dac = nx.degree_assortativity_coefficient(G_s)\n",
    "print(f\"Las medidas de similidaridad de las conexiones entre nodos de igual grado es: {round(dac,3)}\")"
   ]
  },
  {
   "cell_type": "markdown",
   "id": "30d735aa",
   "metadata": {
    "id": "6c09b09a-bc41-404d-b669-70aae52aea12"
   },
   "source": [
    "**Transitividad**"
   ]
  },
  {
   "cell_type": "code",
   "execution_count": 15,
   "id": "1f300b68",
   "metadata": {
    "colab": {
     "background_save": true
    },
    "id": "293dc1c4-b703-4015-ad10-a93c9ec3ce80"
   },
   "outputs": [
    {
     "name": "stdout",
     "output_type": "stream",
     "text": [
      "La transitividad el grafo es: 0.00161\n"
     ]
    }
   ],
   "source": [
    "transitivity = nx.transitivity(G_s)\n",
    "print(f\"La transitividad el grafo es: {round(transitivity,5)}\")"
   ]
  },
  {
   "cell_type": "markdown",
   "id": "d3604a18",
   "metadata": {
    "id": "08d0b259-3238-4318-842c-3ba8aeb64f39"
   },
   "source": [
    "**Coeficiente medio de Clustering  de Watts-Strogatz**"
   ]
  },
  {
   "cell_type": "code",
   "execution_count": 16,
   "id": "7f33f5a5",
   "metadata": {
    "colab": {
     "background_save": true
    },
    "id": "ea432988-c1e1-404e-9db9-361f9d73b3e1"
   },
   "outputs": [
    {
     "name": "stdout",
     "output_type": "stream",
     "text": [
      "El coeficiente de clustering de Watts-Strogatz es : 0.102\n"
     ]
    }
   ],
   "source": [
    "print(f\"El coeficiente de clustering de Watts-Strogatz es : {round(df_nodes.Cws.mean(),3)}\")"
   ]
  },
  {
   "cell_type": "markdown",
   "id": "03d902b1",
   "metadata": {
    "id": "dcbb4072-87e9-4493-8b1f-57841e765293"
   },
   "source": [
    "### Conclusiones\n",
    "\n",
    "* Del grafo dirigido obtuvimos que la componente de mayor tamaño tiene el 97% del tamaño del grafo original.\n",
    "* El grado medio de los nodos de la componente mayor del grafo dirigido da un valor de 5, lo cual indica que en promedio cada usuario retweetea a, o es retweeteado por, otros 5 usuarios.\n",
    "* Observamos que la asortatividad es negativa y cercana a cero , -0.2, lo que quizá podemos interpretar como que les usuaries que están conectados no necesariamente tienen similaridad entre los temas que retweetean.\n",
    "* Tanto la transitividad como el coeficiente medio de clustering de WS dieron muy baja, 0.001 y 0.1 respectivamente, por lo que interpretamos que en promedio, hay pocos vecines en común entre vecines.\n"
   ]
  },
  {
   "cell_type": "markdown",
   "id": "b1b3f13a",
   "metadata": {
    "id": "pUoTKss9YXv9"
   },
   "source": [
    "## **Ejercicio 2**\n",
    "\n",
    "Calcular 5 métricas de centralidad de nodos. Graficar la distribución de cada una de ellas ¿Existe alguna correlación entre las distintas centralidades? \n",
    "\n",
    "Hacer un ranking con los 10 nodos más centrales para cada métrica. ¿Hay coincidencia entre los rankings?. ¿Qué características tienen los usuarios más centrales y sus respectivos tweets?\n",
    "\n",
    "**Opcional:** Determinar si existe alguna correlación entre la centralidad de un nodo y su actividad en red social. Es decir, evaluar si los usuarios que más escriben son los más centrales o no."
   ]
  },
  {
   "cell_type": "markdown",
   "id": "fdd497e8",
   "metadata": {
    "id": "e5500316-a32d-413b-a061-57a3bba53e24"
   },
   "source": [
    "### **Centralidad**\n",
    "\n",
    "Opcional: Determinar si existe alguna correlación entre la centralidad de un nodo y su actividad en red social. Es decir, evaluar si los usuarios que más escriben son los más centrales o no."
   ]
  },
  {
   "cell_type": "code",
   "execution_count": null,
   "id": "43bfc4e8",
   "metadata": {
    "colab": {
     "background_save": true
    },
    "id": "MTKPVERbY1gV"
   },
   "outputs": [],
   "source": [
    "!pip install igraph"
   ]
  },
  {
   "cell_type": "code",
   "execution_count": 17,
   "id": "714d1b06",
   "metadata": {
    "colab": {
     "background_save": true
    },
    "id": "1935014f-32ae-42d0-bc78-66dc51eee679"
   },
   "outputs": [],
   "source": [
    "import igraph as ig"
   ]
  },
  {
   "cell_type": "code",
   "execution_count": 18,
   "id": "9b864387",
   "metadata": {
    "colab": {
     "background_save": true
    },
    "id": "09eb7816-e46c-4595-91b6-f24f176cae51"
   },
   "outputs": [],
   "source": [
    "G_m = ig.Graph.from_networkx(G_s)"
   ]
  },
  {
   "cell_type": "code",
   "execution_count": 19,
   "id": "429395e6",
   "metadata": {
    "colab": {
     "background_save": true
    },
    "id": "f59c935a-5c73-49a1-bd40-160cb7105758"
   },
   "outputs": [
    {
     "name": "stdout",
     "output_type": "stream",
     "text": [
      "Cantidad de nodos: 38998\n",
      "Cantidad de links: 92830\n"
     ]
    }
   ],
   "source": [
    "print(f'Cantidad de nodos: {G_m.vcount()}')\n",
    "print(f'Cantidad de links: {G_m.ecount()}')"
   ]
  },
  {
   "cell_type": "code",
   "execution_count": 21,
   "id": "1bcec405",
   "metadata": {
    "colab": {
     "background_save": true
    },
    "id": "f6d9a4d2-1f7f-4489-87e5-cee46f1bc97f"
   },
   "outputs": [],
   "source": [
    "betweenness = G_m.betweenness()\n",
    "eigenvector = G_m.eigenvector_centrality()\n",
    "closeness = G_m.closeness()\n",
    "pagerank = G_m.pagerank()"
   ]
  },
  {
   "cell_type": "code",
   "execution_count": 25,
   "id": "0f2a5b64-d5e3-4020-8aca-20deb0082801",
   "metadata": {},
   "outputs": [
    {
     "ename": "MemoryError",
     "evalue": "Unable to allocate 11.3 GiB for an array with shape (38998, 38998) and data type float64",
     "output_type": "error",
     "traceback": [
      "\u001b[1;31m---------------------------------------------------------------------------\u001b[0m",
      "\u001b[1;31mMemoryError\u001b[0m                               Traceback (most recent call last)",
      "Input \u001b[1;32mIn [25]\u001b[0m, in \u001b[0;36m<cell line: 1>\u001b[1;34m()\u001b[0m\n\u001b[1;32m----> 1\u001b[0m katz \u001b[38;5;241m=\u001b[39m \u001b[43mnx\u001b[49m\u001b[38;5;241;43m.\u001b[39;49m\u001b[43mkatz_centrality_numpy\u001b[49m\u001b[43m(\u001b[49m\u001b[43mG_s\u001b[49m\u001b[43m)\u001b[49m\n",
      "File \u001b[1;32m<class 'networkx.utils.decorators.argmap'> compilation 16:4\u001b[0m, in \u001b[0;36margmap_katz_centrality_numpy_13\u001b[1;34m(G, alpha, beta, normalized, weight)\u001b[0m\n\u001b[0;32m      2\u001b[0m \u001b[38;5;28;01mfrom\u001b[39;00m \u001b[38;5;21;01mos\u001b[39;00m\u001b[38;5;21;01m.\u001b[39;00m\u001b[38;5;21;01mpath\u001b[39;00m \u001b[38;5;28;01mimport\u001b[39;00m splitext\n\u001b[0;32m      3\u001b[0m \u001b[38;5;28;01mfrom\u001b[39;00m \u001b[38;5;21;01mcontextlib\u001b[39;00m \u001b[38;5;28;01mimport\u001b[39;00m contextmanager\n\u001b[1;32m----> 4\u001b[0m \u001b[38;5;28;01mfrom\u001b[39;00m \u001b[38;5;21;01mpathlib\u001b[39;00m \u001b[38;5;28;01mimport\u001b[39;00m Path\n\u001b[0;32m      6\u001b[0m \u001b[38;5;28;01mimport\u001b[39;00m \u001b[38;5;21;01mnetworkx\u001b[39;00m \u001b[38;5;28;01mas\u001b[39;00m \u001b[38;5;21;01mnx\u001b[39;00m\n\u001b[0;32m      7\u001b[0m \u001b[38;5;28;01mfrom\u001b[39;00m \u001b[38;5;21;01mnetworkx\u001b[39;00m\u001b[38;5;21;01m.\u001b[39;00m\u001b[38;5;21;01mutils\u001b[39;00m \u001b[38;5;28;01mimport\u001b[39;00m create_random_state, create_py_random_state\n",
      "File \u001b[1;32m~\\AppData\\Local\\Programs\\Python\\Python39\\lib\\site-packages\\networkx\\algorithms\\centrality\\katz.py:327\u001b[0m, in \u001b[0;36mkatz_centrality_numpy\u001b[1;34m(G, alpha, beta, normalized, weight)\u001b[0m\n\u001b[0;32m    325\u001b[0m A \u001b[38;5;241m=\u001b[39m nx\u001b[38;5;241m.\u001b[39madjacency_matrix(G, nodelist\u001b[38;5;241m=\u001b[39mnodelist, weight\u001b[38;5;241m=\u001b[39mweight)\u001b[38;5;241m.\u001b[39mtodense()\u001b[38;5;241m.\u001b[39mT\n\u001b[0;32m    326\u001b[0m n \u001b[38;5;241m=\u001b[39m A\u001b[38;5;241m.\u001b[39mshape[\u001b[38;5;241m0\u001b[39m]\n\u001b[1;32m--> 327\u001b[0m centrality \u001b[38;5;241m=\u001b[39m np\u001b[38;5;241m.\u001b[39mlinalg\u001b[38;5;241m.\u001b[39msolve(np\u001b[38;5;241m.\u001b[39meye(n, n) \u001b[38;5;241m-\u001b[39m (\u001b[43malpha\u001b[49m\u001b[43m \u001b[49m\u001b[38;5;241;43m*\u001b[39;49m\u001b[43m \u001b[49m\u001b[43mA\u001b[49m), b)\n\u001b[0;32m    328\u001b[0m \u001b[38;5;28;01mif\u001b[39;00m normalized:\n\u001b[0;32m    329\u001b[0m     norm \u001b[38;5;241m=\u001b[39m np\u001b[38;5;241m.\u001b[39msign(\u001b[38;5;28msum\u001b[39m(centrality)) \u001b[38;5;241m*\u001b[39m np\u001b[38;5;241m.\u001b[39mlinalg\u001b[38;5;241m.\u001b[39mnorm(centrality)\n",
      "File \u001b[1;32m~\\AppData\\Local\\Programs\\Python\\Python39\\lib\\site-packages\\numpy\\matrixlib\\defmatrix.py:224\u001b[0m, in \u001b[0;36mmatrix.__rmul__\u001b[1;34m(self, other)\u001b[0m\n\u001b[0;32m    223\u001b[0m \u001b[38;5;28;01mdef\u001b[39;00m \u001b[38;5;21m__rmul__\u001b[39m(\u001b[38;5;28mself\u001b[39m, other):\n\u001b[1;32m--> 224\u001b[0m     \u001b[38;5;28;01mreturn\u001b[39;00m \u001b[43mN\u001b[49m\u001b[38;5;241;43m.\u001b[39;49m\u001b[43mdot\u001b[49m\u001b[43m(\u001b[49m\u001b[43mother\u001b[49m\u001b[43m,\u001b[49m\u001b[43m \u001b[49m\u001b[38;5;28;43mself\u001b[39;49m\u001b[43m)\u001b[49m\n",
      "File \u001b[1;32m<__array_function__ internals>:180\u001b[0m, in \u001b[0;36mdot\u001b[1;34m(*args, **kwargs)\u001b[0m\n",
      "\u001b[1;31mMemoryError\u001b[0m: Unable to allocate 11.3 GiB for an array with shape (38998, 38998) and data type float64"
     ]
    }
   ],
   "source": [
    "katz = nx.katz_centrality_numpy(G_s)"
   ]
  },
  {
   "cell_type": "code",
   "execution_count": 26,
   "id": "01045950",
   "metadata": {
    "colab": {
     "background_save": true
    },
    "id": "345ece0d-f42d-4b56-a946-6f2f90be5a89"
   },
   "outputs": [
    {
     "data": {
      "text/html": [
       "<div>\n",
       "<style scoped>\n",
       "    .dataframe tbody tr th:only-of-type {\n",
       "        vertical-align: middle;\n",
       "    }\n",
       "\n",
       "    .dataframe tbody tr th {\n",
       "        vertical-align: top;\n",
       "    }\n",
       "\n",
       "    .dataframe thead th {\n",
       "        text-align: right;\n",
       "    }\n",
       "</style>\n",
       "<table border=\"1\" class=\"dataframe\">\n",
       "  <thead>\n",
       "    <tr style=\"text-align: right;\">\n",
       "      <th></th>\n",
       "      <th>user.id</th>\n",
       "      <th>degree</th>\n",
       "      <th>Cws</th>\n",
       "      <th>betweenness</th>\n",
       "      <th>eigenvector</th>\n",
       "      <th>closeness</th>\n",
       "      <th>pagerank</th>\n",
       "    </tr>\n",
       "  </thead>\n",
       "  <tbody>\n",
       "    <tr>\n",
       "      <th>0</th>\n",
       "      <td>252168075</td>\n",
       "      <td>8207</td>\n",
       "      <td>0.000558</td>\n",
       "      <td>78111.640852</td>\n",
       "      <td>0.000748</td>\n",
       "      <td>0.244898</td>\n",
       "      <td>0.000039</td>\n",
       "    </tr>\n",
       "    <tr>\n",
       "      <th>1</th>\n",
       "      <td>130979339</td>\n",
       "      <td>5553</td>\n",
       "      <td>0.000336</td>\n",
       "      <td>130535.561685</td>\n",
       "      <td>0.009091</td>\n",
       "      <td>0.286305</td>\n",
       "      <td>0.000071</td>\n",
       "    </tr>\n",
       "    <tr>\n",
       "      <th>2</th>\n",
       "      <td>73102744</td>\n",
       "      <td>5362</td>\n",
       "      <td>0.000496</td>\n",
       "      <td>0.000000</td>\n",
       "      <td>0.000007</td>\n",
       "      <td>0.196722</td>\n",
       "      <td>0.000008</td>\n",
       "    </tr>\n",
       "    <tr>\n",
       "      <th>3</th>\n",
       "      <td>367933714</td>\n",
       "      <td>3849</td>\n",
       "      <td>0.000882</td>\n",
       "      <td>31376.713412</td>\n",
       "      <td>0.010696</td>\n",
       "      <td>0.304398</td>\n",
       "      <td>0.000037</td>\n",
       "    </tr>\n",
       "    <tr>\n",
       "      <th>4</th>\n",
       "      <td>593189095</td>\n",
       "      <td>3834</td>\n",
       "      <td>0.000068</td>\n",
       "      <td>291383.100735</td>\n",
       "      <td>0.011937</td>\n",
       "      <td>0.308014</td>\n",
       "      <td>0.000057</td>\n",
       "    </tr>\n",
       "    <tr>\n",
       "      <th>5</th>\n",
       "      <td>2687724840</td>\n",
       "      <td>3175</td>\n",
       "      <td>0.000750</td>\n",
       "      <td>0.000000</td>\n",
       "      <td>0.000007</td>\n",
       "      <td>0.196722</td>\n",
       "      <td>0.000008</td>\n",
       "    </tr>\n",
       "    <tr>\n",
       "      <th>6</th>\n",
       "      <td>931564592328781824</td>\n",
       "      <td>3136</td>\n",
       "      <td>0.000581</td>\n",
       "      <td>22191.084223</td>\n",
       "      <td>0.010886</td>\n",
       "      <td>0.304296</td>\n",
       "      <td>0.000031</td>\n",
       "    </tr>\n",
       "    <tr>\n",
       "      <th>7</th>\n",
       "      <td>144929758</td>\n",
       "      <td>2657</td>\n",
       "      <td>0.000324</td>\n",
       "      <td>9600.249311</td>\n",
       "      <td>0.007731</td>\n",
       "      <td>0.281864</td>\n",
       "      <td>0.000028</td>\n",
       "    </tr>\n",
       "    <tr>\n",
       "      <th>8</th>\n",
       "      <td>312708081</td>\n",
       "      <td>1630</td>\n",
       "      <td>0.001669</td>\n",
       "      <td>153925.112534</td>\n",
       "      <td>0.012812</td>\n",
       "      <td>0.318817</td>\n",
       "      <td>0.000081</td>\n",
       "    </tr>\n",
       "    <tr>\n",
       "      <th>9</th>\n",
       "      <td>1077176953</td>\n",
       "      <td>589</td>\n",
       "      <td>0.001628</td>\n",
       "      <td>29292.427046</td>\n",
       "      <td>0.011608</td>\n",
       "      <td>0.304716</td>\n",
       "      <td>0.000055</td>\n",
       "    </tr>\n",
       "  </tbody>\n",
       "</table>\n",
       "</div>"
      ],
      "text/plain": [
       "              user.id  degree       Cws    betweenness  eigenvector  \\\n",
       "0           252168075    8207  0.000558   78111.640852     0.000748   \n",
       "1           130979339    5553  0.000336  130535.561685     0.009091   \n",
       "2            73102744    5362  0.000496       0.000000     0.000007   \n",
       "3           367933714    3849  0.000882   31376.713412     0.010696   \n",
       "4           593189095    3834  0.000068  291383.100735     0.011937   \n",
       "5          2687724840    3175  0.000750       0.000000     0.000007   \n",
       "6  931564592328781824    3136  0.000581   22191.084223     0.010886   \n",
       "7           144929758    2657  0.000324    9600.249311     0.007731   \n",
       "8           312708081    1630  0.001669  153925.112534     0.012812   \n",
       "9          1077176953     589  0.001628   29292.427046     0.011608   \n",
       "\n",
       "   closeness  pagerank  \n",
       "0   0.244898  0.000039  \n",
       "1   0.286305  0.000071  \n",
       "2   0.196722  0.000008  \n",
       "3   0.304398  0.000037  \n",
       "4   0.308014  0.000057  \n",
       "5   0.196722  0.000008  \n",
       "6   0.304296  0.000031  \n",
       "7   0.281864  0.000028  \n",
       "8   0.318817  0.000081  \n",
       "9   0.304716  0.000055  "
      ]
     },
     "execution_count": 26,
     "metadata": {},
     "output_type": "execute_result"
    }
   ],
   "source": [
    "df_nodes['betweenness'] = betweenness\n",
    "df_nodes['eigenvector'] = eigenvector\n",
    "df_nodes['closeness'] = closeness\n",
    "df_nodes['pagerank'] = pagerank\n",
    "#df_nodes['katz'] = katz\n",
    "\n",
    "df_nodes.head(10)"
   ]
  },
  {
   "cell_type": "markdown",
   "id": "a267e050",
   "metadata": {
    "id": "a1c6cca4-d390-49aa-9fc2-3cd5b75b4277"
   },
   "source": [
    "### Correlacion Medidas de Centralidad"
   ]
  },
  {
   "cell_type": "code",
   "execution_count": 27,
   "id": "d1645d46",
   "metadata": {
    "colab": {
     "background_save": true
    },
    "id": "cf64ef3c-6cd1-4616-a2ef-faba74dd8c39"
   },
   "outputs": [
    {
     "data": {
      "text/plain": [
       "<AxesSubplot:>"
      ]
     },
     "execution_count": 27,
     "metadata": {},
     "output_type": "execute_result"
    },
    {
     "data": {
      "image/png": "[encoded data removed]",
      "text/plain": [
       "<Figure size 1152x576 with 2 Axes>"
      ]
     },
     "metadata": {
      "needs_background": "light"
     },
     "output_type": "display_data"
    }
   ],
   "source": [
    "fig, ax = plt.subplots(figsize=(16,8))\n",
    "sns.heatmap(df_nodes.corr(), annot=True, cmap= 'Blues', ax=ax)"
   ]
  },
  {
   "cell_type": "markdown",
   "id": "718bfa9d",
   "metadata": {
    "id": "a3338309-181a-450c-ab6a-c453aaded927"
   },
   "source": [
    "### Betweenness"
   ]
  },
  {
   "cell_type": "markdown",
   "id": "a7cee348",
   "metadata": {
    "id": "34e1c178-e842-461c-aeff-2daf24c3836d"
   },
   "source": [
    "Distribucion de la medida de Betwenneess en los nodos."
   ]
  },
  {
   "cell_type": "code",
   "execution_count": 28,
   "id": "f74a84cb",
   "metadata": {
    "colab": {
     "background_save": true
    },
    "id": "07d5ae63-29ef-427c-8b37-0f85fd8f8ec5"
   },
   "outputs": [
    {
     "data": {
      "image/png": "[encoded data removed]",
      "text/plain": [
       "<Figure size 1440x720 with 1 Axes>"
      ]
     },
     "metadata": {
      "needs_background": "light"
     },
     "output_type": "display_data"
    }
   ],
   "source": [
    "fig, ax= plt.subplots(figsize=(20,10))\n",
    "ax.set_xlabel('betweenness')\n",
    "ax.hist(df_nodes['betweenness'],bins=25,log=True);"
   ]
  },
  {
   "cell_type": "markdown",
   "id": "e493feb3",
   "metadata": {
    "id": "64a331e2-c70c-4043-91cf-18c7b0fbc502"
   },
   "source": [
    "**Top 10 medida de Betweenness**"
   ]
  },
  {
   "cell_type": "code",
   "execution_count": 29,
   "id": "738af955",
   "metadata": {
    "colab": {
     "background_save": true
    },
    "id": "4abe6f1c-bf9d-4529-b499-a25f2ded7a8e"
   },
   "outputs": [
    {
     "data": {
      "text/html": [
       "<div>\n",
       "<style scoped>\n",
       "    .dataframe tbody tr th:only-of-type {\n",
       "        vertical-align: middle;\n",
       "    }\n",
       "\n",
       "    .dataframe tbody tr th {\n",
       "        vertical-align: top;\n",
       "    }\n",
       "\n",
       "    .dataframe thead th {\n",
       "        text-align: right;\n",
       "    }\n",
       "</style>\n",
       "<table border=\"1\" class=\"dataframe\">\n",
       "  <thead>\n",
       "    <tr style=\"text-align: right;\">\n",
       "      <th></th>\n",
       "      <th>user.id</th>\n",
       "      <th>degree</th>\n",
       "      <th>Cws</th>\n",
       "      <th>betweenness</th>\n",
       "      <th>eigenvector</th>\n",
       "      <th>closeness</th>\n",
       "      <th>pagerank</th>\n",
       "    </tr>\n",
       "  </thead>\n",
       "  <tbody>\n",
       "    <tr>\n",
       "      <th>10</th>\n",
       "      <td>152325528</td>\n",
       "      <td>567</td>\n",
       "      <td>0.000667</td>\n",
       "      <td>2.703364e+08</td>\n",
       "      <td>0.738339</td>\n",
       "      <td>0.392229</td>\n",
       "      <td>0.041559</td>\n",
       "    </tr>\n",
       "    <tr>\n",
       "      <th>343</th>\n",
       "      <td>60982903</td>\n",
       "      <td>49</td>\n",
       "      <td>0.046769</td>\n",
       "      <td>1.785181e+08</td>\n",
       "      <td>1.000000</td>\n",
       "      <td>0.398115</td>\n",
       "      <td>0.033869</td>\n",
       "    </tr>\n",
       "    <tr>\n",
       "      <th>87</th>\n",
       "      <td>992420860907663361</td>\n",
       "      <td>109</td>\n",
       "      <td>0.037377</td>\n",
       "      <td>1.259533e+08</td>\n",
       "      <td>0.972362</td>\n",
       "      <td>0.371290</td>\n",
       "      <td>0.031500</td>\n",
       "    </tr>\n",
       "    <tr>\n",
       "      <th>1338</th>\n",
       "      <td>2828897977</td>\n",
       "      <td>18</td>\n",
       "      <td>0.267974</td>\n",
       "      <td>1.139237e+08</td>\n",
       "      <td>0.361535</td>\n",
       "      <td>0.349051</td>\n",
       "      <td>0.029741</td>\n",
       "    </tr>\n",
       "    <tr>\n",
       "      <th>736</th>\n",
       "      <td>1674504272</td>\n",
       "      <td>29</td>\n",
       "      <td>0.071429</td>\n",
       "      <td>9.875625e+07</td>\n",
       "      <td>0.262567</td>\n",
       "      <td>0.375875</td>\n",
       "      <td>0.015305</td>\n",
       "    </tr>\n",
       "    <tr>\n",
       "      <th>276</th>\n",
       "      <td>2645904638</td>\n",
       "      <td>55</td>\n",
       "      <td>0.071380</td>\n",
       "      <td>9.179453e+07</td>\n",
       "      <td>0.715609</td>\n",
       "      <td>0.382177</td>\n",
       "      <td>0.022418</td>\n",
       "    </tr>\n",
       "    <tr>\n",
       "      <th>545</th>\n",
       "      <td>2229279600</td>\n",
       "      <td>38</td>\n",
       "      <td>0.102418</td>\n",
       "      <td>7.542586e+07</td>\n",
       "      <td>0.500054</td>\n",
       "      <td>0.366155</td>\n",
       "      <td>0.019766</td>\n",
       "    </tr>\n",
       "    <tr>\n",
       "      <th>1019</th>\n",
       "      <td>153552401</td>\n",
       "      <td>23</td>\n",
       "      <td>0.067194</td>\n",
       "      <td>7.064363e+07</td>\n",
       "      <td>0.321722</td>\n",
       "      <td>0.342205</td>\n",
       "      <td>0.016846</td>\n",
       "    </tr>\n",
       "    <tr>\n",
       "      <th>571</th>\n",
       "      <td>3109545658</td>\n",
       "      <td>36</td>\n",
       "      <td>0.042857</td>\n",
       "      <td>2.702409e+07</td>\n",
       "      <td>0.341865</td>\n",
       "      <td>0.353775</td>\n",
       "      <td>0.008637</td>\n",
       "    </tr>\n",
       "    <tr>\n",
       "      <th>3809</th>\n",
       "      <td>1345902409692930048</td>\n",
       "      <td>7</td>\n",
       "      <td>0.047619</td>\n",
       "      <td>1.804990e+07</td>\n",
       "      <td>0.053433</td>\n",
       "      <td>0.388409</td>\n",
       "      <td>0.002249</td>\n",
       "    </tr>\n",
       "  </tbody>\n",
       "</table>\n",
       "</div>"
      ],
      "text/plain": [
       "                  user.id  degree       Cws   betweenness  eigenvector  \\\n",
       "10              152325528     567  0.000667  2.703364e+08     0.738339   \n",
       "343              60982903      49  0.046769  1.785181e+08     1.000000   \n",
       "87     992420860907663361     109  0.037377  1.259533e+08     0.972362   \n",
       "1338           2828897977      18  0.267974  1.139237e+08     0.361535   \n",
       "736            1674504272      29  0.071429  9.875625e+07     0.262567   \n",
       "276            2645904638      55  0.071380  9.179453e+07     0.715609   \n",
       "545            2229279600      38  0.102418  7.542586e+07     0.500054   \n",
       "1019            153552401      23  0.067194  7.064363e+07     0.321722   \n",
       "571            3109545658      36  0.042857  2.702409e+07     0.341865   \n",
       "3809  1345902409692930048       7  0.047619  1.804990e+07     0.053433   \n",
       "\n",
       "      closeness  pagerank  \n",
       "10     0.392229  0.041559  \n",
       "343    0.398115  0.033869  \n",
       "87     0.371290  0.031500  \n",
       "1338   0.349051  0.029741  \n",
       "736    0.375875  0.015305  \n",
       "276    0.382177  0.022418  \n",
       "545    0.366155  0.019766  \n",
       "1019   0.342205  0.016846  \n",
       "571    0.353775  0.008637  \n",
       "3809   0.388409  0.002249  "
      ]
     },
     "execution_count": 29,
     "metadata": {},
     "output_type": "execute_result"
    }
   ],
   "source": [
    "df_be = df_nodes.sort_values(by=[\"betweenness\"], ascending=False).head(10)\n",
    "df_be"
   ]
  },
  {
   "cell_type": "markdown",
   "id": "ab387bb2",
   "metadata": {
    "id": "5d9c9a60-5777-452f-9a60-31e3d666b35d"
   },
   "source": [
    "### Eigenvector"
   ]
  },
  {
   "cell_type": "markdown",
   "id": "6a37a98c",
   "metadata": {
    "id": "94bfdb6a-a710-4ca3-9646-1b76e11765af"
   },
   "source": [
    "Distiribucion centralidad de vector propio, en los nodos."
   ]
  },
  {
   "cell_type": "code",
   "execution_count": 30,
   "id": "f7291ad8",
   "metadata": {
    "colab": {
     "background_save": true
    },
    "id": "35e1bdac-e110-448b-bed9-a0073d775446"
   },
   "outputs": [
    {
     "data": {
      "image/png": "[encoded data removed]",
      "text/plain": [
       "<Figure size 1440x720 with 1 Axes>"
      ]
     },
     "metadata": {
      "needs_background": "light"
     },
     "output_type": "display_data"
    }
   ],
   "source": [
    "fig, ax= plt.subplots(figsize=(20,10))\n",
    "ax.set_xlabel('eigenvector centrality')\n",
    "ax.hist(df_nodes['eigenvector'],bins=25,log=True);"
   ]
  },
  {
   "cell_type": "markdown",
   "id": "57d108a9",
   "metadata": {
    "id": "f3d24d63-4c1c-45d1-89d5-087b2c0d3c69"
   },
   "source": [
    "**Top 10 medida de Centralidad de Vector Propio**"
   ]
  },
  {
   "cell_type": "code",
   "execution_count": 31,
   "id": "0cbbe266",
   "metadata": {
    "colab": {
     "background_save": true
    },
    "id": "f8fea5b9-e25c-420e-9593-6e10460cabca"
   },
   "outputs": [
    {
     "data": {
      "text/html": [
       "<div>\n",
       "<style scoped>\n",
       "    .dataframe tbody tr th:only-of-type {\n",
       "        vertical-align: middle;\n",
       "    }\n",
       "\n",
       "    .dataframe tbody tr th {\n",
       "        vertical-align: top;\n",
       "    }\n",
       "\n",
       "    .dataframe thead th {\n",
       "        text-align: right;\n",
       "    }\n",
       "</style>\n",
       "<table border=\"1\" class=\"dataframe\">\n",
       "  <thead>\n",
       "    <tr style=\"text-align: right;\">\n",
       "      <th></th>\n",
       "      <th>user.id</th>\n",
       "      <th>degree</th>\n",
       "      <th>Cws</th>\n",
       "      <th>betweenness</th>\n",
       "      <th>eigenvector</th>\n",
       "      <th>closeness</th>\n",
       "      <th>pagerank</th>\n",
       "    </tr>\n",
       "  </thead>\n",
       "  <tbody>\n",
       "    <tr>\n",
       "      <th>343</th>\n",
       "      <td>60982903</td>\n",
       "      <td>49</td>\n",
       "      <td>0.046769</td>\n",
       "      <td>1.785181e+08</td>\n",
       "      <td>1.000000</td>\n",
       "      <td>0.398115</td>\n",
       "      <td>0.033869</td>\n",
       "    </tr>\n",
       "    <tr>\n",
       "      <th>87</th>\n",
       "      <td>992420860907663361</td>\n",
       "      <td>109</td>\n",
       "      <td>0.037377</td>\n",
       "      <td>1.259533e+08</td>\n",
       "      <td>0.972362</td>\n",
       "      <td>0.371290</td>\n",
       "      <td>0.031500</td>\n",
       "    </tr>\n",
       "    <tr>\n",
       "      <th>10</th>\n",
       "      <td>152325528</td>\n",
       "      <td>567</td>\n",
       "      <td>0.000667</td>\n",
       "      <td>2.703364e+08</td>\n",
       "      <td>0.738339</td>\n",
       "      <td>0.392229</td>\n",
       "      <td>0.041559</td>\n",
       "    </tr>\n",
       "    <tr>\n",
       "      <th>276</th>\n",
       "      <td>2645904638</td>\n",
       "      <td>55</td>\n",
       "      <td>0.071380</td>\n",
       "      <td>9.179453e+07</td>\n",
       "      <td>0.715609</td>\n",
       "      <td>0.382177</td>\n",
       "      <td>0.022418</td>\n",
       "    </tr>\n",
       "    <tr>\n",
       "      <th>545</th>\n",
       "      <td>2229279600</td>\n",
       "      <td>38</td>\n",
       "      <td>0.102418</td>\n",
       "      <td>7.542586e+07</td>\n",
       "      <td>0.500054</td>\n",
       "      <td>0.366155</td>\n",
       "      <td>0.019766</td>\n",
       "    </tr>\n",
       "    <tr>\n",
       "      <th>1338</th>\n",
       "      <td>2828897977</td>\n",
       "      <td>18</td>\n",
       "      <td>0.267974</td>\n",
       "      <td>1.139237e+08</td>\n",
       "      <td>0.361535</td>\n",
       "      <td>0.349051</td>\n",
       "      <td>0.029741</td>\n",
       "    </tr>\n",
       "    <tr>\n",
       "      <th>571</th>\n",
       "      <td>3109545658</td>\n",
       "      <td>36</td>\n",
       "      <td>0.042857</td>\n",
       "      <td>2.702409e+07</td>\n",
       "      <td>0.341865</td>\n",
       "      <td>0.353775</td>\n",
       "      <td>0.008637</td>\n",
       "    </tr>\n",
       "    <tr>\n",
       "      <th>1019</th>\n",
       "      <td>153552401</td>\n",
       "      <td>23</td>\n",
       "      <td>0.067194</td>\n",
       "      <td>7.064363e+07</td>\n",
       "      <td>0.321722</td>\n",
       "      <td>0.342205</td>\n",
       "      <td>0.016846</td>\n",
       "    </tr>\n",
       "    <tr>\n",
       "      <th>736</th>\n",
       "      <td>1674504272</td>\n",
       "      <td>29</td>\n",
       "      <td>0.071429</td>\n",
       "      <td>9.875625e+07</td>\n",
       "      <td>0.262567</td>\n",
       "      <td>0.375875</td>\n",
       "      <td>0.015305</td>\n",
       "    </tr>\n",
       "    <tr>\n",
       "      <th>267</th>\n",
       "      <td>284311261</td>\n",
       "      <td>57</td>\n",
       "      <td>0.087093</td>\n",
       "      <td>1.417075e+06</td>\n",
       "      <td>0.091112</td>\n",
       "      <td>0.336474</td>\n",
       "      <td>0.001208</td>\n",
       "    </tr>\n",
       "  </tbody>\n",
       "</table>\n",
       "</div>"
      ],
      "text/plain": [
       "                 user.id  degree       Cws   betweenness  eigenvector  \\\n",
       "343             60982903      49  0.046769  1.785181e+08     1.000000   \n",
       "87    992420860907663361     109  0.037377  1.259533e+08     0.972362   \n",
       "10             152325528     567  0.000667  2.703364e+08     0.738339   \n",
       "276           2645904638      55  0.071380  9.179453e+07     0.715609   \n",
       "545           2229279600      38  0.102418  7.542586e+07     0.500054   \n",
       "1338          2828897977      18  0.267974  1.139237e+08     0.361535   \n",
       "571           3109545658      36  0.042857  2.702409e+07     0.341865   \n",
       "1019           153552401      23  0.067194  7.064363e+07     0.321722   \n",
       "736           1674504272      29  0.071429  9.875625e+07     0.262567   \n",
       "267            284311261      57  0.087093  1.417075e+06     0.091112   \n",
       "\n",
       "      closeness  pagerank  \n",
       "343    0.398115  0.033869  \n",
       "87     0.371290  0.031500  \n",
       "10     0.392229  0.041559  \n",
       "276    0.382177  0.022418  \n",
       "545    0.366155  0.019766  \n",
       "1338   0.349051  0.029741  \n",
       "571    0.353775  0.008637  \n",
       "1019   0.342205  0.016846  \n",
       "736    0.375875  0.015305  \n",
       "267    0.336474  0.001208  "
      ]
     },
     "execution_count": 31,
     "metadata": {},
     "output_type": "execute_result"
    }
   ],
   "source": [
    "df_ei = df_nodes.sort_values(by=[\"eigenvector\"], ascending=False).head(10)\n",
    "df_ei"
   ]
  },
  {
   "cell_type": "markdown",
   "id": "015f811f",
   "metadata": {
    "id": "95bfe25d-6c30-4917-b352-6d701fd85448"
   },
   "source": [
    "### Closeness"
   ]
  },
  {
   "cell_type": "markdown",
   "id": "8fbf0dac",
   "metadata": {
    "id": "d8407fa4-931a-4af1-b28b-8d989da082d1"
   },
   "source": [
    "Distribucion de medida de cercania en los nodos"
   ]
  },
  {
   "cell_type": "code",
   "execution_count": 32,
   "id": "bb561393",
   "metadata": {
    "colab": {
     "background_save": true
    },
    "id": "b7281e37-aadd-41ba-8b4b-6a4120fe4cd5"
   },
   "outputs": [
    {
     "data": {
      "image/png": "[encoded data removed]",
      "text/plain": [
       "<Figure size 1440x720 with 1 Axes>"
      ]
     },
     "metadata": {
      "needs_background": "light"
     },
     "output_type": "display_data"
    }
   ],
   "source": [
    "fig, ax= plt.subplots(figsize=(20,10))\n",
    "ax.set_xlabel('closeness')\n",
    "ax.hist(df_nodes['closeness'],bins=50); #,log=True);"
   ]
  },
  {
   "cell_type": "markdown",
   "id": "f1ee598b",
   "metadata": {
    "id": "f2ceabdb-a96f-481e-8239-a68b3949cc05"
   },
   "source": [
    "**Top 10 medida de cercania**"
   ]
  },
  {
   "cell_type": "code",
   "execution_count": 33,
   "id": "0d4c0203",
   "metadata": {
    "colab": {
     "background_save": true
    },
    "id": "2b1f1376-3683-4563-bb63-ab1a1e8cba2d"
   },
   "outputs": [
    {
     "data": {
      "text/html": [
       "<div>\n",
       "<style scoped>\n",
       "    .dataframe tbody tr th:only-of-type {\n",
       "        vertical-align: middle;\n",
       "    }\n",
       "\n",
       "    .dataframe tbody tr th {\n",
       "        vertical-align: top;\n",
       "    }\n",
       "\n",
       "    .dataframe thead th {\n",
       "        text-align: right;\n",
       "    }\n",
       "</style>\n",
       "<table border=\"1\" class=\"dataframe\">\n",
       "  <thead>\n",
       "    <tr style=\"text-align: right;\">\n",
       "      <th></th>\n",
       "      <th>user.id</th>\n",
       "      <th>degree</th>\n",
       "      <th>Cws</th>\n",
       "      <th>betweenness</th>\n",
       "      <th>eigenvector</th>\n",
       "      <th>closeness</th>\n",
       "      <th>pagerank</th>\n",
       "    </tr>\n",
       "  </thead>\n",
       "  <tbody>\n",
       "    <tr>\n",
       "      <th>343</th>\n",
       "      <td>60982903</td>\n",
       "      <td>49</td>\n",
       "      <td>0.046769</td>\n",
       "      <td>1.785181e+08</td>\n",
       "      <td>1.000000</td>\n",
       "      <td>0.398115</td>\n",
       "      <td>0.033869</td>\n",
       "    </tr>\n",
       "    <tr>\n",
       "      <th>1344</th>\n",
       "      <td>3388495833</td>\n",
       "      <td>18</td>\n",
       "      <td>0.117647</td>\n",
       "      <td>5.757763e+06</td>\n",
       "      <td>0.048239</td>\n",
       "      <td>0.397693</td>\n",
       "      <td>0.000187</td>\n",
       "    </tr>\n",
       "    <tr>\n",
       "      <th>1766</th>\n",
       "      <td>723689256938541057</td>\n",
       "      <td>14</td>\n",
       "      <td>0.208791</td>\n",
       "      <td>4.296021e+06</td>\n",
       "      <td>0.044047</td>\n",
       "      <td>0.397203</td>\n",
       "      <td>0.000047</td>\n",
       "    </tr>\n",
       "    <tr>\n",
       "      <th>380</th>\n",
       "      <td>1189293417353887744</td>\n",
       "      <td>47</td>\n",
       "      <td>0.039778</td>\n",
       "      <td>4.822057e+06</td>\n",
       "      <td>0.046644</td>\n",
       "      <td>0.395664</td>\n",
       "      <td>0.000044</td>\n",
       "    </tr>\n",
       "    <tr>\n",
       "      <th>11351</th>\n",
       "      <td>169736965</td>\n",
       "      <td>2</td>\n",
       "      <td>0.000000</td>\n",
       "      <td>3.502980e+06</td>\n",
       "      <td>0.035681</td>\n",
       "      <td>0.394395</td>\n",
       "      <td>0.000059</td>\n",
       "    </tr>\n",
       "    <tr>\n",
       "      <th>10</th>\n",
       "      <td>152325528</td>\n",
       "      <td>567</td>\n",
       "      <td>0.000667</td>\n",
       "      <td>2.703364e+08</td>\n",
       "      <td>0.738339</td>\n",
       "      <td>0.392229</td>\n",
       "      <td>0.041559</td>\n",
       "    </tr>\n",
       "    <tr>\n",
       "      <th>3809</th>\n",
       "      <td>1345902409692930048</td>\n",
       "      <td>7</td>\n",
       "      <td>0.047619</td>\n",
       "      <td>1.804990e+07</td>\n",
       "      <td>0.053433</td>\n",
       "      <td>0.388409</td>\n",
       "      <td>0.002249</td>\n",
       "    </tr>\n",
       "    <tr>\n",
       "      <th>1349</th>\n",
       "      <td>1321576572760064000</td>\n",
       "      <td>18</td>\n",
       "      <td>0.098039</td>\n",
       "      <td>3.186130e+06</td>\n",
       "      <td>0.038214</td>\n",
       "      <td>0.387109</td>\n",
       "      <td>0.000033</td>\n",
       "    </tr>\n",
       "    <tr>\n",
       "      <th>1136</th>\n",
       "      <td>174416954</td>\n",
       "      <td>20</td>\n",
       "      <td>0.073684</td>\n",
       "      <td>6.642837e+06</td>\n",
       "      <td>0.039285</td>\n",
       "      <td>0.382545</td>\n",
       "      <td>0.000231</td>\n",
       "    </tr>\n",
       "    <tr>\n",
       "      <th>276</th>\n",
       "      <td>2645904638</td>\n",
       "      <td>55</td>\n",
       "      <td>0.071380</td>\n",
       "      <td>9.179453e+07</td>\n",
       "      <td>0.715609</td>\n",
       "      <td>0.382177</td>\n",
       "      <td>0.022418</td>\n",
       "    </tr>\n",
       "  </tbody>\n",
       "</table>\n",
       "</div>"
      ],
      "text/plain": [
       "                   user.id  degree       Cws   betweenness  eigenvector  \\\n",
       "343               60982903      49  0.046769  1.785181e+08     1.000000   \n",
       "1344            3388495833      18  0.117647  5.757763e+06     0.048239   \n",
       "1766    723689256938541057      14  0.208791  4.296021e+06     0.044047   \n",
       "380    1189293417353887744      47  0.039778  4.822057e+06     0.046644   \n",
       "11351            169736965       2  0.000000  3.502980e+06     0.035681   \n",
       "10               152325528     567  0.000667  2.703364e+08     0.738339   \n",
       "3809   1345902409692930048       7  0.047619  1.804990e+07     0.053433   \n",
       "1349   1321576572760064000      18  0.098039  3.186130e+06     0.038214   \n",
       "1136             174416954      20  0.073684  6.642837e+06     0.039285   \n",
       "276             2645904638      55  0.071380  9.179453e+07     0.715609   \n",
       "\n",
       "       closeness  pagerank  \n",
       "343     0.398115  0.033869  \n",
       "1344    0.397693  0.000187  \n",
       "1766    0.397203  0.000047  \n",
       "380     0.395664  0.000044  \n",
       "11351   0.394395  0.000059  \n",
       "10      0.392229  0.041559  \n",
       "3809    0.388409  0.002249  \n",
       "1349    0.387109  0.000033  \n",
       "1136    0.382545  0.000231  \n",
       "276     0.382177  0.022418  "
      ]
     },
     "execution_count": 33,
     "metadata": {},
     "output_type": "execute_result"
    }
   ],
   "source": [
    "df_cl = df_nodes.sort_values(by=[\"closeness\"], ascending=False).head(10)\n",
    "df_cl "
   ]
  },
  {
   "cell_type": "markdown",
   "id": "78f56274",
   "metadata": {
    "id": "ff2bd9c6-72d7-4b12-81a5-7508705bb9de"
   },
   "source": [
    "### Page Rank"
   ]
  },
  {
   "cell_type": "markdown",
   "id": "f9678bda",
   "metadata": {
    "id": "c25d41ed-fa1b-4101-bfa5-36f75d70a762"
   },
   "source": [
    "Distribucion de medida de page rank en los nodos."
   ]
  },
  {
   "cell_type": "code",
   "execution_count": 34,
   "id": "e26cbe50",
   "metadata": {
    "colab": {
     "background_save": true
    },
    "id": "b4229a1b-7087-46b4-bd5f-969d6eaae3d6"
   },
   "outputs": [
    {
     "data": {
      "image/png": "[encoded data removed]",
      "text/plain": [
       "<Figure size 1440x720 with 1 Axes>"
      ]
     },
     "metadata": {
      "needs_background": "light"
     },
     "output_type": "display_data"
    }
   ],
   "source": [
    "fig, ax= plt.subplots(figsize=(20,10))\n",
    "ax.set_xlabel('pagerank')\n",
    "ax.hist(df_nodes['pagerank'],bins=20,log=True);"
   ]
  },
  {
   "cell_type": "markdown",
   "id": "f042d04c",
   "metadata": {
    "id": "bd1e043a-86b3-4b97-9152-3614a29659de"
   },
   "source": [
    "**Top 10 medida de Page Rank**"
   ]
  },
  {
   "cell_type": "code",
   "execution_count": 35,
   "id": "6de1c5db",
   "metadata": {
    "colab": {
     "background_save": true
    },
    "id": "b03ee055-1d92-4e81-b83f-66bcfe260884"
   },
   "outputs": [
    {
     "data": {
      "text/html": [
       "<div>\n",
       "<style scoped>\n",
       "    .dataframe tbody tr th:only-of-type {\n",
       "        vertical-align: middle;\n",
       "    }\n",
       "\n",
       "    .dataframe tbody tr th {\n",
       "        vertical-align: top;\n",
       "    }\n",
       "\n",
       "    .dataframe thead th {\n",
       "        text-align: right;\n",
       "    }\n",
       "</style>\n",
       "<table border=\"1\" class=\"dataframe\">\n",
       "  <thead>\n",
       "    <tr style=\"text-align: right;\">\n",
       "      <th></th>\n",
       "      <th>user.id</th>\n",
       "      <th>degree</th>\n",
       "      <th>Cws</th>\n",
       "      <th>betweenness</th>\n",
       "      <th>eigenvector</th>\n",
       "      <th>closeness</th>\n",
       "      <th>pagerank</th>\n",
       "    </tr>\n",
       "  </thead>\n",
       "  <tbody>\n",
       "    <tr>\n",
       "      <th>10</th>\n",
       "      <td>152325528</td>\n",
       "      <td>567</td>\n",
       "      <td>0.000667</td>\n",
       "      <td>2.703364e+08</td>\n",
       "      <td>0.738339</td>\n",
       "      <td>0.392229</td>\n",
       "      <td>0.041559</td>\n",
       "    </tr>\n",
       "    <tr>\n",
       "      <th>343</th>\n",
       "      <td>60982903</td>\n",
       "      <td>49</td>\n",
       "      <td>0.046769</td>\n",
       "      <td>1.785181e+08</td>\n",
       "      <td>1.000000</td>\n",
       "      <td>0.398115</td>\n",
       "      <td>0.033869</td>\n",
       "    </tr>\n",
       "    <tr>\n",
       "      <th>87</th>\n",
       "      <td>992420860907663361</td>\n",
       "      <td>109</td>\n",
       "      <td>0.037377</td>\n",
       "      <td>1.259533e+08</td>\n",
       "      <td>0.972362</td>\n",
       "      <td>0.371290</td>\n",
       "      <td>0.031500</td>\n",
       "    </tr>\n",
       "    <tr>\n",
       "      <th>1338</th>\n",
       "      <td>2828897977</td>\n",
       "      <td>18</td>\n",
       "      <td>0.267974</td>\n",
       "      <td>1.139237e+08</td>\n",
       "      <td>0.361535</td>\n",
       "      <td>0.349051</td>\n",
       "      <td>0.029741</td>\n",
       "    </tr>\n",
       "    <tr>\n",
       "      <th>276</th>\n",
       "      <td>2645904638</td>\n",
       "      <td>55</td>\n",
       "      <td>0.071380</td>\n",
       "      <td>9.179453e+07</td>\n",
       "      <td>0.715609</td>\n",
       "      <td>0.382177</td>\n",
       "      <td>0.022418</td>\n",
       "    </tr>\n",
       "    <tr>\n",
       "      <th>545</th>\n",
       "      <td>2229279600</td>\n",
       "      <td>38</td>\n",
       "      <td>0.102418</td>\n",
       "      <td>7.542586e+07</td>\n",
       "      <td>0.500054</td>\n",
       "      <td>0.366155</td>\n",
       "      <td>0.019766</td>\n",
       "    </tr>\n",
       "    <tr>\n",
       "      <th>1019</th>\n",
       "      <td>153552401</td>\n",
       "      <td>23</td>\n",
       "      <td>0.067194</td>\n",
       "      <td>7.064363e+07</td>\n",
       "      <td>0.321722</td>\n",
       "      <td>0.342205</td>\n",
       "      <td>0.016846</td>\n",
       "    </tr>\n",
       "    <tr>\n",
       "      <th>736</th>\n",
       "      <td>1674504272</td>\n",
       "      <td>29</td>\n",
       "      <td>0.071429</td>\n",
       "      <td>9.875625e+07</td>\n",
       "      <td>0.262567</td>\n",
       "      <td>0.375875</td>\n",
       "      <td>0.015305</td>\n",
       "    </tr>\n",
       "    <tr>\n",
       "      <th>571</th>\n",
       "      <td>3109545658</td>\n",
       "      <td>36</td>\n",
       "      <td>0.042857</td>\n",
       "      <td>2.702409e+07</td>\n",
       "      <td>0.341865</td>\n",
       "      <td>0.353775</td>\n",
       "      <td>0.008637</td>\n",
       "    </tr>\n",
       "    <tr>\n",
       "      <th>3171</th>\n",
       "      <td>1215983722698366977</td>\n",
       "      <td>8</td>\n",
       "      <td>0.000000</td>\n",
       "      <td>1.307567e+07</td>\n",
       "      <td>0.082660</td>\n",
       "      <td>0.331810</td>\n",
       "      <td>0.003662</td>\n",
       "    </tr>\n",
       "  </tbody>\n",
       "</table>\n",
       "</div>"
      ],
      "text/plain": [
       "                  user.id  degree       Cws   betweenness  eigenvector  \\\n",
       "10              152325528     567  0.000667  2.703364e+08     0.738339   \n",
       "343              60982903      49  0.046769  1.785181e+08     1.000000   \n",
       "87     992420860907663361     109  0.037377  1.259533e+08     0.972362   \n",
       "1338           2828897977      18  0.267974  1.139237e+08     0.361535   \n",
       "276            2645904638      55  0.071380  9.179453e+07     0.715609   \n",
       "545            2229279600      38  0.102418  7.542586e+07     0.500054   \n",
       "1019            153552401      23  0.067194  7.064363e+07     0.321722   \n",
       "736            1674504272      29  0.071429  9.875625e+07     0.262567   \n",
       "571            3109545658      36  0.042857  2.702409e+07     0.341865   \n",
       "3171  1215983722698366977       8  0.000000  1.307567e+07     0.082660   \n",
       "\n",
       "      closeness  pagerank  \n",
       "10     0.392229  0.041559  \n",
       "343    0.398115  0.033869  \n",
       "87     0.371290  0.031500  \n",
       "1338   0.349051  0.029741  \n",
       "276    0.382177  0.022418  \n",
       "545    0.366155  0.019766  \n",
       "1019   0.342205  0.016846  \n",
       "736    0.375875  0.015305  \n",
       "571    0.353775  0.008637  \n",
       "3171   0.331810  0.003662  "
      ]
     },
     "execution_count": 35,
     "metadata": {},
     "output_type": "execute_result"
    }
   ],
   "source": [
    "df_pr = df_nodes.sort_values(by=[\"pagerank\"], ascending=False).head(10)\n",
    "df_pr"
   ]
  },
  {
   "cell_type": "markdown",
   "id": "b938c75d",
   "metadata": {
    "id": "ab559ac8-e06a-4520-9dfc-62158a50dc8d"
   },
   "source": [
    "### Caracteristicas usuarios mas centrales(Terminar)\n"
   ]
  },
  {
   "cell_type": "markdown",
   "id": "13301f0f-fa25-450f-bad4-dd78e46afb47",
   "metadata": {},
   "source": [
    "Tomamos los usuarios mas centrales para cada una de las metricas de centralidad"
   ]
  },
  {
   "cell_type": "code",
   "execution_count": 297,
   "id": "cfb68c06",
   "metadata": {
    "colab": {
     "background_save": true
    },
    "id": "ufEbkyDweLjp"
   },
   "outputs": [
    {
     "data": {
      "text/html": [
       "<div>\n",
       "<style scoped>\n",
       "    .dataframe tbody tr th:only-of-type {\n",
       "        vertical-align: middle;\n",
       "    }\n",
       "\n",
       "    .dataframe tbody tr th {\n",
       "        vertical-align: top;\n",
       "    }\n",
       "\n",
       "    .dataframe thead th {\n",
       "        text-align: right;\n",
       "    }\n",
       "</style>\n",
       "<table border=\"1\" class=\"dataframe\">\n",
       "  <thead>\n",
       "    <tr style=\"text-align: right;\">\n",
       "      <th></th>\n",
       "      <th>user.id</th>\n",
       "      <th>degree</th>\n",
       "      <th>Cws</th>\n",
       "      <th>betweenness</th>\n",
       "      <th>eigenvector</th>\n",
       "      <th>closeness</th>\n",
       "      <th>pagerank</th>\n",
       "    </tr>\n",
       "  </thead>\n",
       "  <tbody>\n",
       "    <tr>\n",
       "      <th>10</th>\n",
       "      <td>152325528</td>\n",
       "      <td>567</td>\n",
       "      <td>0.000667</td>\n",
       "      <td>2.703364e+08</td>\n",
       "      <td>0.738339</td>\n",
       "      <td>0.392229</td>\n",
       "      <td>0.041559</td>\n",
       "    </tr>\n",
       "    <tr>\n",
       "      <th>343</th>\n",
       "      <td>60982903</td>\n",
       "      <td>49</td>\n",
       "      <td>0.046769</td>\n",
       "      <td>1.785181e+08</td>\n",
       "      <td>1.000000</td>\n",
       "      <td>0.398115</td>\n",
       "      <td>0.033869</td>\n",
       "    </tr>\n",
       "    <tr>\n",
       "      <th>87</th>\n",
       "      <td>992420860907663361</td>\n",
       "      <td>109</td>\n",
       "      <td>0.037377</td>\n",
       "      <td>1.259533e+08</td>\n",
       "      <td>0.972362</td>\n",
       "      <td>0.371290</td>\n",
       "      <td>0.031500</td>\n",
       "    </tr>\n",
       "    <tr>\n",
       "      <th>1338</th>\n",
       "      <td>2828897977</td>\n",
       "      <td>18</td>\n",
       "      <td>0.267974</td>\n",
       "      <td>1.139237e+08</td>\n",
       "      <td>0.361535</td>\n",
       "      <td>0.349051</td>\n",
       "      <td>0.029741</td>\n",
       "    </tr>\n",
       "    <tr>\n",
       "      <th>736</th>\n",
       "      <td>1674504272</td>\n",
       "      <td>29</td>\n",
       "      <td>0.071429</td>\n",
       "      <td>9.875625e+07</td>\n",
       "      <td>0.262567</td>\n",
       "      <td>0.375875</td>\n",
       "      <td>0.015305</td>\n",
       "    </tr>\n",
       "    <tr>\n",
       "      <th>276</th>\n",
       "      <td>2645904638</td>\n",
       "      <td>55</td>\n",
       "      <td>0.071380</td>\n",
       "      <td>9.179453e+07</td>\n",
       "      <td>0.715609</td>\n",
       "      <td>0.382177</td>\n",
       "      <td>0.022418</td>\n",
       "    </tr>\n",
       "    <tr>\n",
       "      <th>545</th>\n",
       "      <td>2229279600</td>\n",
       "      <td>38</td>\n",
       "      <td>0.102418</td>\n",
       "      <td>7.542586e+07</td>\n",
       "      <td>0.500054</td>\n",
       "      <td>0.366155</td>\n",
       "      <td>0.019766</td>\n",
       "    </tr>\n",
       "    <tr>\n",
       "      <th>1019</th>\n",
       "      <td>153552401</td>\n",
       "      <td>23</td>\n",
       "      <td>0.067194</td>\n",
       "      <td>7.064363e+07</td>\n",
       "      <td>0.321722</td>\n",
       "      <td>0.342205</td>\n",
       "      <td>0.016846</td>\n",
       "    </tr>\n",
       "    <tr>\n",
       "      <th>571</th>\n",
       "      <td>3109545658</td>\n",
       "      <td>36</td>\n",
       "      <td>0.042857</td>\n",
       "      <td>2.702409e+07</td>\n",
       "      <td>0.341865</td>\n",
       "      <td>0.353775</td>\n",
       "      <td>0.008637</td>\n",
       "    </tr>\n",
       "    <tr>\n",
       "      <th>3809</th>\n",
       "      <td>1345902409692930048</td>\n",
       "      <td>7</td>\n",
       "      <td>0.047619</td>\n",
       "      <td>1.804990e+07</td>\n",
       "      <td>0.053433</td>\n",
       "      <td>0.388409</td>\n",
       "      <td>0.002249</td>\n",
       "    </tr>\n",
       "    <tr>\n",
       "      <th>1344</th>\n",
       "      <td>3388495833</td>\n",
       "      <td>18</td>\n",
       "      <td>0.117647</td>\n",
       "      <td>5.757763e+06</td>\n",
       "      <td>0.048239</td>\n",
       "      <td>0.397693</td>\n",
       "      <td>0.000187</td>\n",
       "    </tr>\n",
       "    <tr>\n",
       "      <th>1766</th>\n",
       "      <td>723689256938541057</td>\n",
       "      <td>14</td>\n",
       "      <td>0.208791</td>\n",
       "      <td>4.296021e+06</td>\n",
       "      <td>0.044047</td>\n",
       "      <td>0.397203</td>\n",
       "      <td>0.000047</td>\n",
       "    </tr>\n",
       "    <tr>\n",
       "      <th>380</th>\n",
       "      <td>1189293417353887744</td>\n",
       "      <td>47</td>\n",
       "      <td>0.039778</td>\n",
       "      <td>4.822057e+06</td>\n",
       "      <td>0.046644</td>\n",
       "      <td>0.395664</td>\n",
       "      <td>0.000044</td>\n",
       "    </tr>\n",
       "    <tr>\n",
       "      <th>11351</th>\n",
       "      <td>169736965</td>\n",
       "      <td>2</td>\n",
       "      <td>0.000000</td>\n",
       "      <td>3.502980e+06</td>\n",
       "      <td>0.035681</td>\n",
       "      <td>0.394395</td>\n",
       "      <td>0.000059</td>\n",
       "    </tr>\n",
       "    <tr>\n",
       "      <th>1349</th>\n",
       "      <td>1321576572760064000</td>\n",
       "      <td>18</td>\n",
       "      <td>0.098039</td>\n",
       "      <td>3.186130e+06</td>\n",
       "      <td>0.038214</td>\n",
       "      <td>0.387109</td>\n",
       "      <td>0.000033</td>\n",
       "    </tr>\n",
       "    <tr>\n",
       "      <th>1136</th>\n",
       "      <td>174416954</td>\n",
       "      <td>20</td>\n",
       "      <td>0.073684</td>\n",
       "      <td>6.642837e+06</td>\n",
       "      <td>0.039285</td>\n",
       "      <td>0.382545</td>\n",
       "      <td>0.000231</td>\n",
       "    </tr>\n",
       "    <tr>\n",
       "      <th>267</th>\n",
       "      <td>284311261</td>\n",
       "      <td>57</td>\n",
       "      <td>0.087093</td>\n",
       "      <td>1.417075e+06</td>\n",
       "      <td>0.091112</td>\n",
       "      <td>0.336474</td>\n",
       "      <td>0.001208</td>\n",
       "    </tr>\n",
       "    <tr>\n",
       "      <th>3171</th>\n",
       "      <td>1215983722698366977</td>\n",
       "      <td>8</td>\n",
       "      <td>0.000000</td>\n",
       "      <td>1.307567e+07</td>\n",
       "      <td>0.082660</td>\n",
       "      <td>0.331810</td>\n",
       "      <td>0.003662</td>\n",
       "    </tr>\n",
       "  </tbody>\n",
       "</table>\n",
       "</div>"
      ],
      "text/plain": [
       "                   user.id  degree       Cws   betweenness  eigenvector  \\\n",
       "10               152325528     567  0.000667  2.703364e+08     0.738339   \n",
       "343               60982903      49  0.046769  1.785181e+08     1.000000   \n",
       "87      992420860907663361     109  0.037377  1.259533e+08     0.972362   \n",
       "1338            2828897977      18  0.267974  1.139237e+08     0.361535   \n",
       "736             1674504272      29  0.071429  9.875625e+07     0.262567   \n",
       "276             2645904638      55  0.071380  9.179453e+07     0.715609   \n",
       "545             2229279600      38  0.102418  7.542586e+07     0.500054   \n",
       "1019             153552401      23  0.067194  7.064363e+07     0.321722   \n",
       "571             3109545658      36  0.042857  2.702409e+07     0.341865   \n",
       "3809   1345902409692930048       7  0.047619  1.804990e+07     0.053433   \n",
       "1344            3388495833      18  0.117647  5.757763e+06     0.048239   \n",
       "1766    723689256938541057      14  0.208791  4.296021e+06     0.044047   \n",
       "380    1189293417353887744      47  0.039778  4.822057e+06     0.046644   \n",
       "11351            169736965       2  0.000000  3.502980e+06     0.035681   \n",
       "1349   1321576572760064000      18  0.098039  3.186130e+06     0.038214   \n",
       "1136             174416954      20  0.073684  6.642837e+06     0.039285   \n",
       "267              284311261      57  0.087093  1.417075e+06     0.091112   \n",
       "3171   1215983722698366977       8  0.000000  1.307567e+07     0.082660   \n",
       "\n",
       "       closeness  pagerank  \n",
       "10      0.392229  0.041559  \n",
       "343     0.398115  0.033869  \n",
       "87      0.371290  0.031500  \n",
       "1338    0.349051  0.029741  \n",
       "736     0.375875  0.015305  \n",
       "276     0.382177  0.022418  \n",
       "545     0.366155  0.019766  \n",
       "1019    0.342205  0.016846  \n",
       "571     0.353775  0.008637  \n",
       "3809    0.388409  0.002249  \n",
       "1344    0.397693  0.000187  \n",
       "1766    0.397203  0.000047  \n",
       "380     0.395664  0.000044  \n",
       "11351   0.394395  0.000059  \n",
       "1349    0.387109  0.000033  \n",
       "1136    0.382545  0.000231  \n",
       "267     0.336474  0.001208  \n",
       "3171    0.331810  0.003662  "
      ]
     },
     "execution_count": 297,
     "metadata": {},
     "output_type": "execute_result"
    }
   ],
   "source": [
    "#unimos los rankings de las medidas de centralidad\n",
    "df_tops_centrality = pd.concat([df_be,df_cl,df_ei,df_pr]).drop_duplicates(subset=['user.id'])\n",
    "df_tops_centrality"
   ]
  },
  {
   "cell_type": "code",
   "execution_count": 258,
   "id": "055fe5a7",
   "metadata": {
    "colab": {
     "background_save": true
    },
    "id": "OMA7MLualhnb"
   },
   "outputs": [
    {
     "data": {
      "text/html": [
       "<div>\n",
       "<style scoped>\n",
       "    .dataframe tbody tr th:only-of-type {\n",
       "        vertical-align: middle;\n",
       "    }\n",
       "\n",
       "    .dataframe tbody tr th {\n",
       "        vertical-align: top;\n",
       "    }\n",
       "\n",
       "    .dataframe thead th {\n",
       "        text-align: right;\n",
       "    }\n",
       "</style>\n",
       "<table border=\"1\" class=\"dataframe\">\n",
       "  <thead>\n",
       "    <tr style=\"text-align: right;\">\n",
       "      <th></th>\n",
       "      <th>degree</th>\n",
       "      <th>Cws</th>\n",
       "      <th>betweenness</th>\n",
       "      <th>eigenvector</th>\n",
       "      <th>closeness</th>\n",
       "      <th>pagerank</th>\n",
       "    </tr>\n",
       "  </thead>\n",
       "  <tbody>\n",
       "    <tr>\n",
       "      <th>count</th>\n",
       "      <td>18.000000</td>\n",
       "      <td>18.000000</td>\n",
       "      <td>1.800000e+01</td>\n",
       "      <td>18.000000</td>\n",
       "      <td>18.000000</td>\n",
       "      <td>18.000000</td>\n",
       "    </tr>\n",
       "    <tr>\n",
       "      <th>mean</th>\n",
       "      <td>61.944444</td>\n",
       "      <td>0.076706</td>\n",
       "      <td>6.184035e+07</td>\n",
       "      <td>0.316298</td>\n",
       "      <td>0.374565</td>\n",
       "      <td>0.012631</td>\n",
       "    </tr>\n",
       "    <tr>\n",
       "      <th>std</th>\n",
       "      <td>128.562401</td>\n",
       "      <td>0.068785</td>\n",
       "      <td>7.482777e+07</td>\n",
       "      <td>0.334375</td>\n",
       "      <td>0.022642</td>\n",
       "      <td>0.014111</td>\n",
       "    </tr>\n",
       "    <tr>\n",
       "      <th>min</th>\n",
       "      <td>2.000000</td>\n",
       "      <td>0.000000</td>\n",
       "      <td>1.417075e+06</td>\n",
       "      <td>0.035681</td>\n",
       "      <td>0.331810</td>\n",
       "      <td>0.000033</td>\n",
       "    </tr>\n",
       "    <tr>\n",
       "      <th>25%</th>\n",
       "      <td>18.000000</td>\n",
       "      <td>0.040548</td>\n",
       "      <td>5.055983e+06</td>\n",
       "      <td>0.047043</td>\n",
       "      <td>0.356870</td>\n",
       "      <td>0.000198</td>\n",
       "    </tr>\n",
       "    <tr>\n",
       "      <th>50%</th>\n",
       "      <td>26.000000</td>\n",
       "      <td>0.069287</td>\n",
       "      <td>2.253700e+07</td>\n",
       "      <td>0.176839</td>\n",
       "      <td>0.382361</td>\n",
       "      <td>0.006149</td>\n",
       "    </tr>\n",
       "    <tr>\n",
       "      <th>75%</th>\n",
       "      <td>48.500000</td>\n",
       "      <td>0.095303</td>\n",
       "      <td>9.701582e+07</td>\n",
       "      <td>0.465424</td>\n",
       "      <td>0.393854</td>\n",
       "      <td>0.021755</td>\n",
       "    </tr>\n",
       "    <tr>\n",
       "      <th>max</th>\n",
       "      <td>567.000000</td>\n",
       "      <td>0.267974</td>\n",
       "      <td>2.703364e+08</td>\n",
       "      <td>1.000000</td>\n",
       "      <td>0.398115</td>\n",
       "      <td>0.041559</td>\n",
       "    </tr>\n",
       "  </tbody>\n",
       "</table>\n",
       "</div>"
      ],
      "text/plain": [
       "           degree        Cws   betweenness  eigenvector  closeness   pagerank\n",
       "count   18.000000  18.000000  1.800000e+01    18.000000  18.000000  18.000000\n",
       "mean    61.944444   0.076706  6.184035e+07     0.316298   0.374565   0.012631\n",
       "std    128.562401   0.068785  7.482777e+07     0.334375   0.022642   0.014111\n",
       "min      2.000000   0.000000  1.417075e+06     0.035681   0.331810   0.000033\n",
       "25%     18.000000   0.040548  5.055983e+06     0.047043   0.356870   0.000198\n",
       "50%     26.000000   0.069287  2.253700e+07     0.176839   0.382361   0.006149\n",
       "75%     48.500000   0.095303  9.701582e+07     0.465424   0.393854   0.021755\n",
       "max    567.000000   0.267974  2.703364e+08     1.000000   0.398115   0.041559"
      ]
     },
     "execution_count": 258,
     "metadata": {},
     "output_type": "execute_result"
    }
   ],
   "source": [
    "df_tops_centrality.describe()"
   ]
  },
  {
   "cell_type": "markdown",
   "id": "9ad7c9ce-fac4-4b42-8475-c06c50ddf91c",
   "metadata": {},
   "source": [
    "Vemos la cantidad de tweets que tienen los usuarios mas centrales."
   ]
  },
  {
   "cell_type": "code",
   "execution_count": 270,
   "id": "236201ee-f6d6-4b26-b7db-083273110954",
   "metadata": {},
   "outputs": [
    {
     "name": "stdout",
     "output_type": "stream",
     "text": [
      "(13, 2)\n"
     ]
    },
    {
     "data": {
      "text/html": [
       "<div>\n",
       "<style scoped>\n",
       "    .dataframe tbody tr th:only-of-type {\n",
       "        vertical-align: middle;\n",
       "    }\n",
       "\n",
       "    .dataframe tbody tr th {\n",
       "        vertical-align: top;\n",
       "    }\n",
       "\n",
       "    .dataframe thead th {\n",
       "        text-align: right;\n",
       "    }\n",
       "</style>\n",
       "<table border=\"1\" class=\"dataframe\">\n",
       "  <thead>\n",
       "    <tr style=\"text-align: right;\">\n",
       "      <th></th>\n",
       "      <th>user.id</th>\n",
       "      <th>num_tweets</th>\n",
       "    </tr>\n",
       "  </thead>\n",
       "  <tbody>\n",
       "    <tr>\n",
       "      <th>1482</th>\n",
       "      <td>2229279600</td>\n",
       "      <td>58</td>\n",
       "    </tr>\n",
       "    <tr>\n",
       "      <th>3833</th>\n",
       "      <td>152325528</td>\n",
       "      <td>46</td>\n",
       "    </tr>\n",
       "    <tr>\n",
       "      <th>7700</th>\n",
       "      <td>284311261</td>\n",
       "      <td>44</td>\n",
       "    </tr>\n",
       "    <tr>\n",
       "      <th>4809</th>\n",
       "      <td>1345902409692930048</td>\n",
       "      <td>40</td>\n",
       "    </tr>\n",
       "    <tr>\n",
       "      <th>2559</th>\n",
       "      <td>1674504272</td>\n",
       "      <td>22</td>\n",
       "    </tr>\n",
       "    <tr>\n",
       "      <th>787</th>\n",
       "      <td>1189293417353887744</td>\n",
       "      <td>11</td>\n",
       "    </tr>\n",
       "    <tr>\n",
       "      <th>2266</th>\n",
       "      <td>3388495833</td>\n",
       "      <td>5</td>\n",
       "    </tr>\n",
       "    <tr>\n",
       "      <th>31785</th>\n",
       "      <td>1321576572760064000</td>\n",
       "      <td>5</td>\n",
       "    </tr>\n",
       "    <tr>\n",
       "      <th>13448</th>\n",
       "      <td>1215983722698366977</td>\n",
       "      <td>4</td>\n",
       "    </tr>\n",
       "    <tr>\n",
       "      <th>20366</th>\n",
       "      <td>3109545658</td>\n",
       "      <td>3</td>\n",
       "    </tr>\n",
       "    <tr>\n",
       "      <th>48301</th>\n",
       "      <td>2828897977</td>\n",
       "      <td>2</td>\n",
       "    </tr>\n",
       "    <tr>\n",
       "      <th>86914</th>\n",
       "      <td>992420860907663361</td>\n",
       "      <td>1</td>\n",
       "    </tr>\n",
       "    <tr>\n",
       "      <th>92425</th>\n",
       "      <td>153552401</td>\n",
       "      <td>1</td>\n",
       "    </tr>\n",
       "  </tbody>\n",
       "</table>\n",
       "</div>"
      ],
      "text/plain": [
       "                   user.id  num_tweets\n",
       "1482            2229279600          58\n",
       "3833             152325528          46\n",
       "7700             284311261          44\n",
       "4809   1345902409692930048          40\n",
       "2559            1674504272          22\n",
       "787    1189293417353887744          11\n",
       "2266            3388495833           5\n",
       "31785  1321576572760064000           5\n",
       "13448  1215983722698366977           4\n",
       "20366           3109545658           3\n",
       "48301           2828897977           2\n",
       "86914   992420860907663361           1\n",
       "92425            153552401           1"
      ]
     },
     "execution_count": 270,
     "metadata": {},
     "output_type": "execute_result"
    }
   ],
   "source": [
    "#Filtramos los usuarios mas centrales del dataset origianl\n",
    "top_users = df_tops[\"user.id\"]\n",
    "\n",
    "df_tops = df[df[\"user.id\"].isin(top_users)].drop_duplicates(subset=['user.id'])[[\"user.id\",\"num_tweets\"]]\n",
    "\n",
    "print(df_tops.shape)\n",
    "df_tops.sort_values(by=[\"num_tweets\"], ascending=False)"
   ]
  },
  {
   "cell_type": "markdown",
   "id": "d684b2bc-ba8b-4d22-9b4b-4d6f62725497",
   "metadata": {},
   "source": [
    "Vemos que ahora tenemos 13 usuarios en vez de 18, esto nos sugiere que los 5 usuarios faltantes son centrales por retweetear no por generar contenido en la plataforma. Estos usuarios se dropean solos ya que no pertenecen al dataset original de tweets."
   ]
  },
  {
   "cell_type": "code",
   "execution_count": 285,
   "id": "231a5ef1-a892-42ee-a23e-c7edd18312e4",
   "metadata": {},
   "outputs": [
    {
     "name": "stdout",
     "output_type": "stream",
     "text": [
      "Retweeteros seriales:\n",
      "{'174416954', '169736965', '723689256938541057', '2645904638', '60982903'}\n"
     ]
    }
   ],
   "source": [
    "serial_retweeters = set(df_tops_centrality['user.id']) - set(df_tops['user.id'])\n",
    "print(f\"Retweeteros seriales:\\n{serial_retweeters}\") "
   ]
  },
  {
   "cell_type": "markdown",
   "id": "0c566d25-1ee2-4763-b561-d974921704f0",
   "metadata": {},
   "source": [
    "Estos usuarios pueden  ser bots."
   ]
  },
  {
   "cell_type": "markdown",
   "id": "c8012114-684f-4f84-a628-ecdf30176ab2",
   "metadata": {},
   "source": [
    "Para analizar los 13 usuarios restantes vamos a usar el grafo dirigido para ver su centralidad en terminos de enlaces salientes (usuarios que retweetearon al usuario) y enlaces entrantes (retweets del usuario/nodo en cuestion)"
   ]
  },
  {
   "cell_type": "code",
   "execution_count": 296,
   "id": "4bf87871-d252-47b0-b0d3-5cfb086ebba9",
   "metadata": {},
   "outputs": [],
   "source": [
    "df_nodes_directed = pd.DataFrame(index=list(DG.nodes()))\n",
    "out_deg_seq = np.array([k for v, k in DG.out_degree()])\n",
    "in_deg_seq = np.array([k for v, k in DG.in_degree()])\n",
    "df_nodes_directed[\"out_degree\"] = out_deg_seq\n",
    "df_nodes_directed[\"in_degree\"] = in_deg_seq\n",
    "\n",
    "df_nodes_directed = df_nodes_directed.reset_index().rename(columns={\"index\":\"user.id\"})\n",
    "\n",
    "df_nodes_directed_tops = df_nodes_directed[df_nodes_directed[\"user.id\"]\\\n",
    "                                           .isin(top_users)]"
   ]
  },
  {
   "cell_type": "code",
   "execution_count": 303,
   "id": "2e19241e-b950-447c-abc7-ff456e9b24c5",
   "metadata": {},
   "outputs": [
    {
     "data": {
      "text/html": [
       "<div>\n",
       "<style scoped>\n",
       "    .dataframe tbody tr th:only-of-type {\n",
       "        vertical-align: middle;\n",
       "    }\n",
       "\n",
       "    .dataframe tbody tr th {\n",
       "        vertical-align: top;\n",
       "    }\n",
       "\n",
       "    .dataframe thead th {\n",
       "        text-align: right;\n",
       "    }\n",
       "</style>\n",
       "<table border=\"1\" class=\"dataframe\">\n",
       "  <thead>\n",
       "    <tr style=\"text-align: right;\">\n",
       "      <th></th>\n",
       "      <th>user.id</th>\n",
       "      <th>out_degree</th>\n",
       "      <th>in_degree</th>\n",
       "      <th>num_tweets</th>\n",
       "    </tr>\n",
       "  </thead>\n",
       "  <tbody>\n",
       "    <tr>\n",
       "      <th>3355</th>\n",
       "      <td>152325528</td>\n",
       "      <td>567</td>\n",
       "      <td>0</td>\n",
       "      <td>46</td>\n",
       "    </tr>\n",
       "    <tr>\n",
       "      <th>3133</th>\n",
       "      <td>284311261</td>\n",
       "      <td>53</td>\n",
       "      <td>5</td>\n",
       "      <td>44</td>\n",
       "    </tr>\n",
       "    <tr>\n",
       "      <th>6374</th>\n",
       "      <td>1189293417353887744</td>\n",
       "      <td>47</td>\n",
       "      <td>0</td>\n",
       "      <td>11</td>\n",
       "    </tr>\n",
       "    <tr>\n",
       "      <th>5043</th>\n",
       "      <td>1674504272</td>\n",
       "      <td>29</td>\n",
       "      <td>1</td>\n",
       "      <td>22</td>\n",
       "    </tr>\n",
       "    <tr>\n",
       "      <th>29155</th>\n",
       "      <td>153552401</td>\n",
       "      <td>23</td>\n",
       "      <td>0</td>\n",
       "      <td>1</td>\n",
       "    </tr>\n",
       "    <tr>\n",
       "      <th>467</th>\n",
       "      <td>2229279600</td>\n",
       "      <td>17</td>\n",
       "      <td>21</td>\n",
       "      <td>58</td>\n",
       "    </tr>\n",
       "    <tr>\n",
       "      <th>8539</th>\n",
       "      <td>1215983722698366977</td>\n",
       "      <td>8</td>\n",
       "      <td>0</td>\n",
       "      <td>4</td>\n",
       "    </tr>\n",
       "    <tr>\n",
       "      <th>9506</th>\n",
       "      <td>1345902409692930048</td>\n",
       "      <td>7</td>\n",
       "      <td>0</td>\n",
       "      <td>40</td>\n",
       "    </tr>\n",
       "    <tr>\n",
       "      <th>2230</th>\n",
       "      <td>1321576572760064000</td>\n",
       "      <td>3</td>\n",
       "      <td>15</td>\n",
       "      <td>5</td>\n",
       "    </tr>\n",
       "    <tr>\n",
       "      <th>2414</th>\n",
       "      <td>3388495833</td>\n",
       "      <td>1</td>\n",
       "      <td>17</td>\n",
       "      <td>5</td>\n",
       "    </tr>\n",
       "    <tr>\n",
       "      <th>368</th>\n",
       "      <td>2828897977</td>\n",
       "      <td>0</td>\n",
       "      <td>18</td>\n",
       "      <td>2</td>\n",
       "    </tr>\n",
       "    <tr>\n",
       "      <th>1460</th>\n",
       "      <td>992420860907663361</td>\n",
       "      <td>0</td>\n",
       "      <td>109</td>\n",
       "      <td>1</td>\n",
       "    </tr>\n",
       "    <tr>\n",
       "      <th>2157</th>\n",
       "      <td>3109545658</td>\n",
       "      <td>0</td>\n",
       "      <td>36</td>\n",
       "      <td>3</td>\n",
       "    </tr>\n",
       "  </tbody>\n",
       "</table>\n",
       "</div>"
      ],
      "text/plain": [
       "                   user.id  out_degree  in_degree  num_tweets\n",
       "3355             152325528         567          0          46\n",
       "3133             284311261          53          5          44\n",
       "6374   1189293417353887744          47          0          11\n",
       "5043            1674504272          29          1          22\n",
       "29155            153552401          23          0           1\n",
       "467             2229279600          17         21          58\n",
       "8539   1215983722698366977           8          0           4\n",
       "9506   1345902409692930048           7          0          40\n",
       "2230   1321576572760064000           3         15           5\n",
       "2414            3388495833           1         17           5\n",
       "368             2828897977           0         18           2\n",
       "1460    992420860907663361           0        109           1\n",
       "2157            3109545658           0         36           3"
      ]
     },
     "execution_count": 303,
     "metadata": {},
     "output_type": "execute_result"
    }
   ],
   "source": [
    "df_nodes_directed_tops[\"num_tweets\"] = df_nodes_directed_tops[\"user.id\"].map(df[\"user.id\"].value_counts())\n",
    "df_nodes_directed_tops.sort_values(by=[\"out_degree\"], ascending=False)"
   ]
  },
  {
   "cell_type": "markdown",
   "id": "73428782-150a-48ea-ad31-2f1a834e3c7c",
   "metadata": {},
   "source": [
    "Agregamos la inforamcion de las metricas de centralidad"
   ]
  },
  {
   "cell_type": "code",
   "execution_count": 307,
   "id": "480065a6-72a9-44ba-9b5c-bb376623a55d",
   "metadata": {},
   "outputs": [
    {
     "data": {
      "text/html": [
       "<div>\n",
       "<style scoped>\n",
       "    .dataframe tbody tr th:only-of-type {\n",
       "        vertical-align: middle;\n",
       "    }\n",
       "\n",
       "    .dataframe tbody tr th {\n",
       "        vertical-align: top;\n",
       "    }\n",
       "\n",
       "    .dataframe thead th {\n",
       "        text-align: right;\n",
       "    }\n",
       "</style>\n",
       "<table border=\"1\" class=\"dataframe\">\n",
       "  <thead>\n",
       "    <tr style=\"text-align: right;\">\n",
       "      <th></th>\n",
       "      <th>user.id</th>\n",
       "      <th>degree</th>\n",
       "      <th>Cws</th>\n",
       "      <th>betweenness</th>\n",
       "      <th>eigenvector</th>\n",
       "      <th>closeness</th>\n",
       "      <th>pagerank</th>\n",
       "      <th>out_degree</th>\n",
       "      <th>in_degree</th>\n",
       "      <th>num_tweets</th>\n",
       "    </tr>\n",
       "  </thead>\n",
       "  <tbody>\n",
       "    <tr>\n",
       "      <th>0</th>\n",
       "      <td>152325528</td>\n",
       "      <td>567</td>\n",
       "      <td>0.000667</td>\n",
       "      <td>2.703364e+08</td>\n",
       "      <td>0.738339</td>\n",
       "      <td>0.392229</td>\n",
       "      <td>0.041559</td>\n",
       "      <td>567</td>\n",
       "      <td>0</td>\n",
       "      <td>46</td>\n",
       "    </tr>\n",
       "    <tr>\n",
       "      <th>1</th>\n",
       "      <td>992420860907663361</td>\n",
       "      <td>109</td>\n",
       "      <td>0.037377</td>\n",
       "      <td>1.259533e+08</td>\n",
       "      <td>0.972362</td>\n",
       "      <td>0.371290</td>\n",
       "      <td>0.031500</td>\n",
       "      <td>0</td>\n",
       "      <td>109</td>\n",
       "      <td>1</td>\n",
       "    </tr>\n",
       "    <tr>\n",
       "      <th>11</th>\n",
       "      <td>284311261</td>\n",
       "      <td>57</td>\n",
       "      <td>0.087093</td>\n",
       "      <td>1.417075e+06</td>\n",
       "      <td>0.091112</td>\n",
       "      <td>0.336474</td>\n",
       "      <td>0.001208</td>\n",
       "      <td>53</td>\n",
       "      <td>5</td>\n",
       "      <td>44</td>\n",
       "    </tr>\n",
       "    <tr>\n",
       "      <th>9</th>\n",
       "      <td>1189293417353887744</td>\n",
       "      <td>47</td>\n",
       "      <td>0.039778</td>\n",
       "      <td>4.822057e+06</td>\n",
       "      <td>0.046644</td>\n",
       "      <td>0.395664</td>\n",
       "      <td>0.000044</td>\n",
       "      <td>47</td>\n",
       "      <td>0</td>\n",
       "      <td>11</td>\n",
       "    </tr>\n",
       "    <tr>\n",
       "      <th>4</th>\n",
       "      <td>2229279600</td>\n",
       "      <td>38</td>\n",
       "      <td>0.102418</td>\n",
       "      <td>7.542586e+07</td>\n",
       "      <td>0.500054</td>\n",
       "      <td>0.366155</td>\n",
       "      <td>0.019766</td>\n",
       "      <td>17</td>\n",
       "      <td>21</td>\n",
       "      <td>58</td>\n",
       "    </tr>\n",
       "    <tr>\n",
       "      <th>6</th>\n",
       "      <td>3109545658</td>\n",
       "      <td>36</td>\n",
       "      <td>0.042857</td>\n",
       "      <td>2.702409e+07</td>\n",
       "      <td>0.341865</td>\n",
       "      <td>0.353775</td>\n",
       "      <td>0.008637</td>\n",
       "      <td>0</td>\n",
       "      <td>36</td>\n",
       "      <td>3</td>\n",
       "    </tr>\n",
       "    <tr>\n",
       "      <th>3</th>\n",
       "      <td>1674504272</td>\n",
       "      <td>29</td>\n",
       "      <td>0.071429</td>\n",
       "      <td>9.875625e+07</td>\n",
       "      <td>0.262567</td>\n",
       "      <td>0.375875</td>\n",
       "      <td>0.015305</td>\n",
       "      <td>29</td>\n",
       "      <td>1</td>\n",
       "      <td>22</td>\n",
       "    </tr>\n",
       "    <tr>\n",
       "      <th>5</th>\n",
       "      <td>153552401</td>\n",
       "      <td>23</td>\n",
       "      <td>0.067194</td>\n",
       "      <td>7.064363e+07</td>\n",
       "      <td>0.321722</td>\n",
       "      <td>0.342205</td>\n",
       "      <td>0.016846</td>\n",
       "      <td>23</td>\n",
       "      <td>0</td>\n",
       "      <td>1</td>\n",
       "    </tr>\n",
       "    <tr>\n",
       "      <th>2</th>\n",
       "      <td>2828897977</td>\n",
       "      <td>18</td>\n",
       "      <td>0.267974</td>\n",
       "      <td>1.139237e+08</td>\n",
       "      <td>0.361535</td>\n",
       "      <td>0.349051</td>\n",
       "      <td>0.029741</td>\n",
       "      <td>0</td>\n",
       "      <td>18</td>\n",
       "      <td>2</td>\n",
       "    </tr>\n",
       "    <tr>\n",
       "      <th>8</th>\n",
       "      <td>3388495833</td>\n",
       "      <td>18</td>\n",
       "      <td>0.117647</td>\n",
       "      <td>5.757763e+06</td>\n",
       "      <td>0.048239</td>\n",
       "      <td>0.397693</td>\n",
       "      <td>0.000187</td>\n",
       "      <td>1</td>\n",
       "      <td>17</td>\n",
       "      <td>5</td>\n",
       "    </tr>\n",
       "    <tr>\n",
       "      <th>10</th>\n",
       "      <td>1321576572760064000</td>\n",
       "      <td>18</td>\n",
       "      <td>0.098039</td>\n",
       "      <td>3.186130e+06</td>\n",
       "      <td>0.038214</td>\n",
       "      <td>0.387109</td>\n",
       "      <td>0.000033</td>\n",
       "      <td>3</td>\n",
       "      <td>15</td>\n",
       "      <td>5</td>\n",
       "    </tr>\n",
       "    <tr>\n",
       "      <th>12</th>\n",
       "      <td>1215983722698366977</td>\n",
       "      <td>8</td>\n",
       "      <td>0.000000</td>\n",
       "      <td>1.307567e+07</td>\n",
       "      <td>0.082660</td>\n",
       "      <td>0.331810</td>\n",
       "      <td>0.003662</td>\n",
       "      <td>8</td>\n",
       "      <td>0</td>\n",
       "      <td>4</td>\n",
       "    </tr>\n",
       "    <tr>\n",
       "      <th>7</th>\n",
       "      <td>1345902409692930048</td>\n",
       "      <td>7</td>\n",
       "      <td>0.047619</td>\n",
       "      <td>1.804990e+07</td>\n",
       "      <td>0.053433</td>\n",
       "      <td>0.388409</td>\n",
       "      <td>0.002249</td>\n",
       "      <td>7</td>\n",
       "      <td>0</td>\n",
       "      <td>40</td>\n",
       "    </tr>\n",
       "  </tbody>\n",
       "</table>\n",
       "</div>"
      ],
      "text/plain": [
       "                user.id  degree       Cws   betweenness  eigenvector  \\\n",
       "0             152325528     567  0.000667  2.703364e+08     0.738339   \n",
       "1    992420860907663361     109  0.037377  1.259533e+08     0.972362   \n",
       "11            284311261      57  0.087093  1.417075e+06     0.091112   \n",
       "9   1189293417353887744      47  0.039778  4.822057e+06     0.046644   \n",
       "4            2229279600      38  0.102418  7.542586e+07     0.500054   \n",
       "6            3109545658      36  0.042857  2.702409e+07     0.341865   \n",
       "3            1674504272      29  0.071429  9.875625e+07     0.262567   \n",
       "5             153552401      23  0.067194  7.064363e+07     0.321722   \n",
       "2            2828897977      18  0.267974  1.139237e+08     0.361535   \n",
       "8            3388495833      18  0.117647  5.757763e+06     0.048239   \n",
       "10  1321576572760064000      18  0.098039  3.186130e+06     0.038214   \n",
       "12  1215983722698366977       8  0.000000  1.307567e+07     0.082660   \n",
       "7   1345902409692930048       7  0.047619  1.804990e+07     0.053433   \n",
       "\n",
       "    closeness  pagerank  out_degree  in_degree  num_tweets  \n",
       "0    0.392229  0.041559         567          0          46  \n",
       "1    0.371290  0.031500           0        109           1  \n",
       "11   0.336474  0.001208          53          5          44  \n",
       "9    0.395664  0.000044          47          0          11  \n",
       "4    0.366155  0.019766          17         21          58  \n",
       "6    0.353775  0.008637           0         36           3  \n",
       "3    0.375875  0.015305          29          1          22  \n",
       "5    0.342205  0.016846          23          0           1  \n",
       "2    0.349051  0.029741           0         18           2  \n",
       "8    0.397693  0.000187           1         17           5  \n",
       "10   0.387109  0.000033           3         15           5  \n",
       "12   0.331810  0.003662           8          0           4  \n",
       "7    0.388409  0.002249           7          0          40  "
      ]
     },
     "execution_count": 307,
     "metadata": {},
     "output_type": "execute_result"
    }
   ],
   "source": [
    "df_top_users = df_tops_centrality.merge(df_nodes_directed_tops).sort_values(by=[\"degree\"], ascending=False)\n",
    "\n",
    "df_top_users"
   ]
  },
  {
   "cell_type": "markdown",
   "id": "9d1287ce-2060-43d7-bfe7-1ae466c9cbb9",
   "metadata": {},
   "source": [
    "**Usuarios**\n",
    " * 152325528: parece un periodista o medio oficialista a favor de la vacunacion.\n",
    " * 60982903 --> dropear\n",
    " * 992420860907663361: sentimiento negativo, parece un bot. --> dropear\n",
    " * 2828897977 --> dropear\n",
    " * 1674504272 --> persona\n",
    " * 2229279600 --> persona\n",
    " * 153552401 --> persona\n",
    " * 1345902409692930048 --> persona"
   ]
  },
  {
   "cell_type": "markdown",
   "id": "4da813a1",
   "metadata": {
    "id": "38d5fe9c-3ef7-4891-b49e-deb73ef346e5"
   },
   "source": [
    "### Conclusiones(Terminar)\n",
    "* Las medidas de centralidad que estan más correlacionadas son: betweeness con page rank (0.97) y con eigenvector (0.73) y eigenvector con page rank (0.78).\n",
    "* De la unión de los tops 10 de cada medida de centralidad obtuvimos un conjunto de 18 usuaries únicos, es decir que muches de elles se repiten en cada ranking.\n",
    "* De este conjunto de 18 usuaries vemos que la medida de betweeness y eigenvector tienen mucha dispersión, a diferencia de la closeness, cuyo valores rondan entre 0.33 y 0.39. De la medida de page rank no se encuentra ningún superior a 0.04, por lo que todas son muy cercanas a cero. Finalmente, al ver los grados de cada usuarie, encontramos valores entre 567 y 2, alejado a lo que hubiésemos esperado.\n",
    "\n",
    "* (viendo los tweets no vemos mucha relacion entre la centralidad y la cantidad de tweets...)\n"
   ]
  },
  {
   "cell_type": "markdown",
   "id": "b19cd3d6",
   "metadata": {
    "id": "76003219-f5f8-4fe6-b78d-64be5570f5c5"
   },
   "source": [
    "## Ejercicio 3\n",
    "\n",
    "Utilizar el algoritmo de Louvain con el parámetro \"resolución\" igual a 1. Caracterizar las comunidades halladas (cantidad, distribución de tamaños). Utilizar la modularidad y otras dos métricas a elección para evaluar la calidad de la partición encontrada.\n",
    "\n",
    "Variar el parámetro \"resolución\" y observar cómo cambia la distribución de comunidades encontradas. ¿Existe algún valor para el cual se identifiquen dos grandes comunidades?\n",
    "\n",
    "Elegir otro algoritmo de detección de comunidades y comparar los resultados con los obtenidos anteriormente.\n",
    "\n",
    "Opcional: Correr el algoritmo de Louvain con distintas semillas aleatorias. Utilizar alguna métrica de comparación externa entre las particiones obtenidas para determinar en qué medida depende el algoritmo de la condición inicial.\n",
    "## **Comunidades**\n",
    "\n",
    "**Opcional:** Correr el algoritmo de Louvain con distintas semillas aleatorias. Utilizar alguna métrica de comparación externa entre las particiones obtenidas para determinar en qué medida depende el algoritmo de la condición inicial."
   ]
  },
  {
   "cell_type": "code",
   "execution_count": 145,
   "id": "e783fd5d",
   "metadata": {
    "colab": {
     "background_save": true
    },
    "id": "eff5b530-b65b-4021-b77b-f9e27006f8d4"
   },
   "outputs": [],
   "source": [
    "#!pip install cdlib\n",
    "from cdlib import NodeClustering, evaluation, algorithms"
   ]
  },
  {
   "cell_type": "markdown",
   "id": "68e46d5a",
   "metadata": {
    "id": "2a6e7995-2ea9-4cba-b412-84b99063af66"
   },
   "source": [
    "### Louvian"
   ]
  },
  {
   "cell_type": "markdown",
   "id": "8b020ed5",
   "metadata": {
    "id": "3911d80d-8a8b-45cf-8909-bac59679350e"
   },
   "source": [
    "Aplicamos el algoritmo de Louvian al grafo a los fines de poder caracterizar distintas comunidades, empleando una resolucion igual a 1."
   ]
  },
  {
   "cell_type": "code",
   "execution_count": 146,
   "id": "587acc6f",
   "metadata": {
    "colab": {
     "background_save": true
    },
    "id": "a118b529-ef4f-4d76-8091-0946d5ae0c97"
   },
   "outputs": [],
   "source": [
    "comms = algorithms.louvain(G_s, weight='weight', resolution=1, randomize=False)"
   ]
  },
  {
   "cell_type": "code",
   "execution_count": 147,
   "id": "167f3122",
   "metadata": {
    "colab": {
     "background_save": true
    },
    "id": "ebc06848-4317-4578-9d1b-8dd69609268f"
   },
   "outputs": [
    {
     "name": "stdout",
     "output_type": "stream",
     "text": [
      "Louvain\n",
      "Parametros del algoritmo : {'weight': 'weight', 'resolution': 1, 'randomize': False}\n",
      "Numero de comunidades detectadas : 38\n"
     ]
    }
   ],
   "source": [
    "print(f\"{comms.method_name}\")\n",
    "print(f\"Parametros del algoritmo : {comms.method_parameters}\")\n",
    "print(f\"Numero de comunidades detectadas : {len(comms.communities)}\")"
   ]
  },
  {
   "cell_type": "markdown",
   "id": "0821bddb",
   "metadata": {
    "id": "151797f6-7580-4613-97ae-8ef881339156"
   },
   "source": [
    "Caracterizamos el tamaño de las distintas comunidades."
   ]
  },
  {
   "cell_type": "code",
   "execution_count": 148,
   "id": "66caf77d",
   "metadata": {
    "colab": {
     "background_save": true
    },
    "id": "fab92b83-5d4b-47a9-8318-be0ac5ceb1cd"
   },
   "outputs": [
    {
     "data": {
      "text/html": [
       "<div>\n",
       "<style scoped>\n",
       "    .dataframe tbody tr th:only-of-type {\n",
       "        vertical-align: middle;\n",
       "    }\n",
       "\n",
       "    .dataframe tbody tr th {\n",
       "        vertical-align: top;\n",
       "    }\n",
       "\n",
       "    .dataframe thead th {\n",
       "        text-align: right;\n",
       "    }\n",
       "</style>\n",
       "<table border=\"1\" class=\"dataframe\">\n",
       "  <thead>\n",
       "    <tr style=\"text-align: right;\">\n",
       "      <th></th>\n",
       "      <th>Community</th>\n",
       "      <th>Size</th>\n",
       "    </tr>\n",
       "  </thead>\n",
       "  <tbody>\n",
       "    <tr>\n",
       "      <th>0</th>\n",
       "      <td>0</td>\n",
       "      <td>8152</td>\n",
       "    </tr>\n",
       "    <tr>\n",
       "      <th>1</th>\n",
       "      <td>1</td>\n",
       "      <td>8109</td>\n",
       "    </tr>\n",
       "    <tr>\n",
       "      <th>2</th>\n",
       "      <td>2</td>\n",
       "      <td>6388</td>\n",
       "    </tr>\n",
       "    <tr>\n",
       "      <th>3</th>\n",
       "      <td>3</td>\n",
       "      <td>4824</td>\n",
       "    </tr>\n",
       "    <tr>\n",
       "      <th>4</th>\n",
       "      <td>4</td>\n",
       "      <td>3393</td>\n",
       "    </tr>\n",
       "    <tr>\n",
       "      <th>5</th>\n",
       "      <td>5</td>\n",
       "      <td>3144</td>\n",
       "    </tr>\n",
       "    <tr>\n",
       "      <th>6</th>\n",
       "      <td>6</td>\n",
       "      <td>2838</td>\n",
       "    </tr>\n",
       "    <tr>\n",
       "      <th>7</th>\n",
       "      <td>7</td>\n",
       "      <td>658</td>\n",
       "    </tr>\n",
       "    <tr>\n",
       "      <th>8</th>\n",
       "      <td>8</td>\n",
       "      <td>239</td>\n",
       "    </tr>\n",
       "    <tr>\n",
       "      <th>9</th>\n",
       "      <td>9</td>\n",
       "      <td>213</td>\n",
       "    </tr>\n",
       "    <tr>\n",
       "      <th>10</th>\n",
       "      <td>10</td>\n",
       "      <td>190</td>\n",
       "    </tr>\n",
       "    <tr>\n",
       "      <th>11</th>\n",
       "      <td>11</td>\n",
       "      <td>112</td>\n",
       "    </tr>\n",
       "    <tr>\n",
       "      <th>12</th>\n",
       "      <td>12</td>\n",
       "      <td>89</td>\n",
       "    </tr>\n",
       "    <tr>\n",
       "      <th>13</th>\n",
       "      <td>13</td>\n",
       "      <td>88</td>\n",
       "    </tr>\n",
       "    <tr>\n",
       "      <th>14</th>\n",
       "      <td>14</td>\n",
       "      <td>87</td>\n",
       "    </tr>\n",
       "    <tr>\n",
       "      <th>15</th>\n",
       "      <td>15</td>\n",
       "      <td>86</td>\n",
       "    </tr>\n",
       "    <tr>\n",
       "      <th>16</th>\n",
       "      <td>16</td>\n",
       "      <td>52</td>\n",
       "    </tr>\n",
       "    <tr>\n",
       "      <th>17</th>\n",
       "      <td>17</td>\n",
       "      <td>46</td>\n",
       "    </tr>\n",
       "    <tr>\n",
       "      <th>19</th>\n",
       "      <td>19</td>\n",
       "      <td>44</td>\n",
       "    </tr>\n",
       "    <tr>\n",
       "      <th>18</th>\n",
       "      <td>18</td>\n",
       "      <td>44</td>\n",
       "    </tr>\n",
       "    <tr>\n",
       "      <th>20</th>\n",
       "      <td>20</td>\n",
       "      <td>27</td>\n",
       "    </tr>\n",
       "    <tr>\n",
       "      <th>21</th>\n",
       "      <td>21</td>\n",
       "      <td>23</td>\n",
       "    </tr>\n",
       "    <tr>\n",
       "      <th>22</th>\n",
       "      <td>22</td>\n",
       "      <td>23</td>\n",
       "    </tr>\n",
       "    <tr>\n",
       "      <th>23</th>\n",
       "      <td>23</td>\n",
       "      <td>16</td>\n",
       "    </tr>\n",
       "    <tr>\n",
       "      <th>24</th>\n",
       "      <td>24</td>\n",
       "      <td>15</td>\n",
       "    </tr>\n",
       "    <tr>\n",
       "      <th>25</th>\n",
       "      <td>25</td>\n",
       "      <td>12</td>\n",
       "    </tr>\n",
       "    <tr>\n",
       "      <th>26</th>\n",
       "      <td>26</td>\n",
       "      <td>10</td>\n",
       "    </tr>\n",
       "    <tr>\n",
       "      <th>27</th>\n",
       "      <td>27</td>\n",
       "      <td>10</td>\n",
       "    </tr>\n",
       "    <tr>\n",
       "      <th>28</th>\n",
       "      <td>28</td>\n",
       "      <td>9</td>\n",
       "    </tr>\n",
       "    <tr>\n",
       "      <th>29</th>\n",
       "      <td>29</td>\n",
       "      <td>8</td>\n",
       "    </tr>\n",
       "    <tr>\n",
       "      <th>30</th>\n",
       "      <td>30</td>\n",
       "      <td>8</td>\n",
       "    </tr>\n",
       "    <tr>\n",
       "      <th>31</th>\n",
       "      <td>31</td>\n",
       "      <td>7</td>\n",
       "    </tr>\n",
       "    <tr>\n",
       "      <th>32</th>\n",
       "      <td>32</td>\n",
       "      <td>7</td>\n",
       "    </tr>\n",
       "    <tr>\n",
       "      <th>33</th>\n",
       "      <td>33</td>\n",
       "      <td>7</td>\n",
       "    </tr>\n",
       "    <tr>\n",
       "      <th>34</th>\n",
       "      <td>34</td>\n",
       "      <td>6</td>\n",
       "    </tr>\n",
       "    <tr>\n",
       "      <th>35</th>\n",
       "      <td>35</td>\n",
       "      <td>5</td>\n",
       "    </tr>\n",
       "    <tr>\n",
       "      <th>36</th>\n",
       "      <td>36</td>\n",
       "      <td>5</td>\n",
       "    </tr>\n",
       "    <tr>\n",
       "      <th>37</th>\n",
       "      <td>37</td>\n",
       "      <td>4</td>\n",
       "    </tr>\n",
       "  </tbody>\n",
       "</table>\n",
       "</div>"
      ],
      "text/plain": [
       "    Community  Size\n",
       "0           0  8152\n",
       "1           1  8109\n",
       "2           2  6388\n",
       "3           3  4824\n",
       "4           4  3393\n",
       "5           5  3144\n",
       "6           6  2838\n",
       "7           7   658\n",
       "8           8   239\n",
       "9           9   213\n",
       "10         10   190\n",
       "11         11   112\n",
       "12         12    89\n",
       "13         13    88\n",
       "14         14    87\n",
       "15         15    86\n",
       "16         16    52\n",
       "17         17    46\n",
       "19         19    44\n",
       "18         18    44\n",
       "20         20    27\n",
       "21         21    23\n",
       "22         22    23\n",
       "23         23    16\n",
       "24         24    15\n",
       "25         25    12\n",
       "26         26    10\n",
       "27         27    10\n",
       "28         28     9\n",
       "29         29     8\n",
       "30         30     8\n",
       "31         31     7\n",
       "32         32     7\n",
       "33         33     7\n",
       "34         34     6\n",
       "35         35     5\n",
       "36         36     5\n",
       "37         37     4"
      ]
     },
     "execution_count": 148,
     "metadata": {},
     "output_type": "execute_result"
    }
   ],
   "source": [
    "communities = {}\n",
    "for com in range(len(comms.communities)):\n",
    "    communities[com] = len(comms.communities[com])\n",
    "df_comms = pd.DataFrame(communities.items(), columns=['Community', 'Size']).sort_values(by=['Size'], ascending=False)\n",
    "df_comms"
   ]
  },
  {
   "cell_type": "markdown",
   "id": "054e3e2c",
   "metadata": {
    "id": "1c4eac01-373f-4238-a76d-853c10b69c9e"
   },
   "source": [
    "### Metricas de Evaluacion Interna algoritmo de Louvian"
   ]
  },
  {
   "cell_type": "markdown",
   "id": "79404cbd",
   "metadata": {
    "id": "54900a0a-030e-465d-b953-f26fd7a36ce2"
   },
   "source": [
    "**Modularidad**"
   ]
  },
  {
   "cell_type": "code",
   "execution_count": 149,
   "id": "2def67ec",
   "metadata": {
    "colab": {
     "background_save": true
    },
    "id": "7c408f8b-ae09-4852-af55-2f5225cbf6bd"
   },
   "outputs": [
    {
     "data": {
      "text/plain": [
       "FitnessResult(min=None, max=None, score=0.5596727455395557, std=None)"
      ]
     },
     "execution_count": 149,
     "metadata": {},
     "output_type": "execute_result"
    }
   ],
   "source": [
    "evaluation.newman_girvan_modularity(G_s, comms)"
   ]
  },
  {
   "cell_type": "markdown",
   "id": "502320cb",
   "metadata": {
    "id": "5446393c-da19-462a-b25e-e2c551c67af4"
   },
   "source": [
    "**Indice de corte**"
   ]
  },
  {
   "cell_type": "code",
   "execution_count": 150,
   "id": "e7fce941",
   "metadata": {
    "colab": {
     "background_save": true
    },
    "id": "7734ff65-5229-40d3-968d-4910b815b639"
   },
   "outputs": [
    {
     "data": {
      "text/plain": [
       "FitnessResult(min=1.1162009876146339e-06, max=6.304380000390786e-05, score=2.0442723987257093e-05, std=1.4627081516585153e-05)"
      ]
     },
     "execution_count": 150,
     "metadata": {},
     "output_type": "execute_result"
    }
   ],
   "source": [
    "evaluation.cut_ratio(G_s, comms)"
   ]
  },
  {
   "cell_type": "markdown",
   "id": "329f2223",
   "metadata": {
    "id": "692f67e4-3c9c-42f7-9111-1f2593789a4d"
   },
   "source": [
    "**Densidad Interna**"
   ]
  },
  {
   "cell_type": "code",
   "execution_count": 153,
   "id": "e0495e3c",
   "metadata": {
    "colab": {
     "background_save": true
    },
    "id": "8972ebe8-e5ac-4eff-9dd9-697b02a7bdbe"
   },
   "outputs": [
    {
     "data": {
      "text/plain": [
       "FitnessResult(min=0.0003967141694262149, max=0.5, score=0.12656787355870108, std=0.14332507662162508)"
      ]
     },
     "execution_count": 153,
     "metadata": {},
     "output_type": "execute_result"
    }
   ],
   "source": [
    "evaluation.internal_edge_density(G_s, comms)"
   ]
  },
  {
   "cell_type": "markdown",
   "id": "94d359cb",
   "metadata": {
    "id": "b55b92c6-eed5-46d5-86b1-1e8ca826b9f8"
   },
   "source": [
    "### Comparacion distintas resoluciones"
   ]
  },
  {
   "cell_type": "code",
   "execution_count": 154,
   "id": "c2fec037",
   "metadata": {
    "colab": {
     "background_save": true
    },
    "id": "fc248037-15fe-47d9-8ef7-23a41c32b726"
   },
   "outputs": [],
   "source": [
    "data = []\n",
    "resolutions = [0.01, 0.05, 0.1, 0.5, 1, 5, 10, 50, 100]\n",
    "for resolution in resolutions:\n",
    "    comms = algorithms.louvain(G_s, weight='weight', resolution=resolution, randomize=False)\n",
    "    ncomms = len(comms.communities)\n",
    "    Q = evaluation.newman_girvan_modularity(G_s, comms).score\n",
    "    mu = evaluation.internal_edge_density(G_s, comms).score\n",
    "    cut_ratio = evaluation.cut_ratio(G_s, comms).score\n",
    "    data.append((resolution, ncomms, Q, mu, cut_ratio))\n",
    "\n",
    "df_Louvian = pd.DataFrame(data, columns=['Resolucion', 'Numero de Comunidades', 'Modularidad', 'Densida Interna', 'Indice de Corte'])"
   ]
  },
  {
   "cell_type": "code",
   "execution_count": 155,
   "id": "e398aece",
   "metadata": {
    "colab": {
     "background_save": true
    },
    "id": "112124a8-454c-46ae-8425-02f39e0f3ba4"
   },
   "outputs": [
    {
     "data": {
      "text/html": [
       "<div>\n",
       "<style scoped>\n",
       "    .dataframe tbody tr th:only-of-type {\n",
       "        vertical-align: middle;\n",
       "    }\n",
       "\n",
       "    .dataframe tbody tr th {\n",
       "        vertical-align: top;\n",
       "    }\n",
       "\n",
       "    .dataframe thead th {\n",
       "        text-align: right;\n",
       "    }\n",
       "</style>\n",
       "<table border=\"1\" class=\"dataframe\">\n",
       "  <thead>\n",
       "    <tr style=\"text-align: right;\">\n",
       "      <th></th>\n",
       "      <th>Resolucion</th>\n",
       "      <th>Numero de Comunidades</th>\n",
       "      <th>Modularidad</th>\n",
       "      <th>Densida Interna</th>\n",
       "      <th>Indice de Corte</th>\n",
       "    </tr>\n",
       "  </thead>\n",
       "  <tbody>\n",
       "    <tr>\n",
       "      <th>0</th>\n",
       "      <td>0.01</td>\n",
       "      <td>4919</td>\n",
       "      <td>0.358683</td>\n",
       "      <td>0.645931</td>\n",
       "      <td>0.000129</td>\n",
       "    </tr>\n",
       "    <tr>\n",
       "      <th>1</th>\n",
       "      <td>0.05</td>\n",
       "      <td>4388</td>\n",
       "      <td>0.365980</td>\n",
       "      <td>0.677718</td>\n",
       "      <td>0.000119</td>\n",
       "    </tr>\n",
       "    <tr>\n",
       "      <th>2</th>\n",
       "      <td>0.10</td>\n",
       "      <td>4387</td>\n",
       "      <td>0.365961</td>\n",
       "      <td>0.677551</td>\n",
       "      <td>0.000119</td>\n",
       "    </tr>\n",
       "    <tr>\n",
       "      <th>3</th>\n",
       "      <td>0.50</td>\n",
       "      <td>4390</td>\n",
       "      <td>0.365928</td>\n",
       "      <td>0.678008</td>\n",
       "      <td>0.000119</td>\n",
       "    </tr>\n",
       "    <tr>\n",
       "      <th>4</th>\n",
       "      <td>1.00</td>\n",
       "      <td>38</td>\n",
       "      <td>0.559673</td>\n",
       "      <td>0.126568</td>\n",
       "      <td>0.000020</td>\n",
       "    </tr>\n",
       "    <tr>\n",
       "      <th>5</th>\n",
       "      <td>5.00</td>\n",
       "      <td>202</td>\n",
       "      <td>0.446977</td>\n",
       "      <td>0.062785</td>\n",
       "      <td>0.000082</td>\n",
       "    </tr>\n",
       "    <tr>\n",
       "      <th>6</th>\n",
       "      <td>10.00</td>\n",
       "      <td>485</td>\n",
       "      <td>0.434141</td>\n",
       "      <td>0.230569</td>\n",
       "      <td>0.000081</td>\n",
       "    </tr>\n",
       "    <tr>\n",
       "      <th>7</th>\n",
       "      <td>50.00</td>\n",
       "      <td>15601</td>\n",
       "      <td>0.262029</td>\n",
       "      <td>0.018026</td>\n",
       "      <td>0.000081</td>\n",
       "    </tr>\n",
       "    <tr>\n",
       "      <th>8</th>\n",
       "      <td>100.00</td>\n",
       "      <td>18593</td>\n",
       "      <td>0.225329</td>\n",
       "      <td>0.025530</td>\n",
       "      <td>0.000088</td>\n",
       "    </tr>\n",
       "  </tbody>\n",
       "</table>\n",
       "</div>"
      ],
      "text/plain": [
       "   Resolucion  Numero de Comunidades  Modularidad  Densida Interna  \\\n",
       "0        0.01                   4919     0.358683         0.645931   \n",
       "1        0.05                   4388     0.365980         0.677718   \n",
       "2        0.10                   4387     0.365961         0.677551   \n",
       "3        0.50                   4390     0.365928         0.678008   \n",
       "4        1.00                     38     0.559673         0.126568   \n",
       "5        5.00                    202     0.446977         0.062785   \n",
       "6       10.00                    485     0.434141         0.230569   \n",
       "7       50.00                  15601     0.262029         0.018026   \n",
       "8      100.00                  18593     0.225329         0.025530   \n",
       "\n",
       "   Indice de Corte  \n",
       "0         0.000129  \n",
       "1         0.000119  \n",
       "2         0.000119  \n",
       "3         0.000119  \n",
       "4         0.000020  \n",
       "5         0.000082  \n",
       "6         0.000081  \n",
       "7         0.000081  \n",
       "8         0.000088  "
      ]
     },
     "execution_count": 155,
     "metadata": {},
     "output_type": "execute_result"
    }
   ],
   "source": [
    "df_Louvian"
   ]
  },
  {
   "cell_type": "markdown",
   "id": "c27ad77d",
   "metadata": {
    "id": "efcf2c74-7509-4dd5-bdd2-208d44fbcc8b"
   },
   "source": [
    "No se identifica un valor de resolucion con el cual sea posible obtener dos grandes comunidades con el algoritmo en cuestion."
   ]
  },
  {
   "cell_type": "markdown",
   "id": "fb2c6878",
   "metadata": {
    "id": "4a11c2a1-a01b-4a2a-b817-b527cc73ac0b"
   },
   "source": [
    "### Label-propagation"
   ]
  },
  {
   "cell_type": "code",
   "execution_count": 156,
   "id": "ae098016",
   "metadata": {
    "colab": {
     "background_save": true
    },
    "id": "9bbae467-5a42-4e03-9a89-bf6de77e54d5"
   },
   "outputs": [],
   "source": [
    "comms_LP = algorithms.label_propagation(G_s)\n",
    "Q_LP = evaluation.newman_girvan_modularity(G_s, comms_LP).score\n",
    "mu_LP = evaluation.internal_edge_density(G_s, comms_LP).score\n",
    "cut_ratio_LP = evaluation.cut_ratio(G_s, comms_LP).score"
   ]
  },
  {
   "cell_type": "code",
   "execution_count": 157,
   "id": "4dcf0fb2",
   "metadata": {
    "colab": {
     "background_save": true
    },
    "id": "80cae85a-300d-48bd-bc56-18227974d800"
   },
   "outputs": [
    {
     "name": "stdout",
     "output_type": "stream",
     "text": [
      "Label Propagation\n",
      "Parametros del algoritmo : {'': ''}\n",
      "Numero de comunidades detectadas : 717\n",
      "Modularidad : 0.5354032373930844\n",
      "Densidad Interna : 0.7338906597765368\n",
      "Indice de corte : 2.1321666199340195e-05\n"
     ]
    }
   ],
   "source": [
    "print(f\"{comms_LP.method_name}\")\n",
    "print(f\"Parametros del algoritmo : {comms_LP.method_parameters}\")\n",
    "print(f\"Numero de comunidades detectadas : {len(comms_LP.communities)}\")\n",
    "print(f\"Modularidad : {Q_LP}\")\n",
    "print(f\"Densidad Interna : {mu_LP}\")\n",
    "print(f\"Indice de corte : {cut_ratio_LP}\")"
   ]
  },
  {
   "cell_type": "markdown",
   "id": "7383e6d9",
   "metadata": {
    "id": "f2435a11-d7ac-49c4-8ec6-98f5e147034a"
   },
   "source": [
    "### Leiden"
   ]
  },
  {
   "cell_type": "code",
   "execution_count": null,
   "id": "20a4eb73",
   "metadata": {
    "colab": {
     "background_save": true
    },
    "id": "6YiKDDeUIJkj"
   },
   "outputs": [],
   "source": [
    "!pip install leidenalg"
   ]
  },
  {
   "cell_type": "code",
   "execution_count": 317,
   "id": "3bcb5788",
   "metadata": {
    "colab": {
     "background_save": true
    },
    "id": "18797b86-35c8-442b-a880-b46c510704b4"
   },
   "outputs": [],
   "source": [
    "comms_Leiden = algorithms.leiden(G_s)\n",
    "Q_Leiden = evaluation.newman_girvan_modularity(G_s, comms_Leiden).score\n",
    "mu_Leiden = evaluation.internal_edge_density(G_s, comms_Leiden).score\n",
    "cut_ratio_Leiden = evaluation.cut_ratio(G_s, comms_Leiden).score"
   ]
  },
  {
   "cell_type": "code",
   "execution_count": 318,
   "id": "7c026b9a",
   "metadata": {
    "colab": {
     "background_save": true
    },
    "id": "2ef345a4-02ec-4296-837a-c0e7b58c7c36"
   },
   "outputs": [
    {
     "name": "stdout",
     "output_type": "stream",
     "text": [
      "Leiden\n",
      "Parametros del algoritmo : {'initial_membership': None, 'weights': None}\n",
      "Numero de comunidades detectadas : 73\n",
      "Modularidad : 0.5816631049038419\n",
      "Densidad interna : 0.3531052678580338\n",
      "Indice de corte : 1.686342435565476e-05\n"
     ]
    }
   ],
   "source": [
    "print(f\"{comms_Leiden.method_name}\")\n",
    "print(f\"Parametros del algoritmo : {comms_Leiden.method_parameters}\")\n",
    "print(f\"Numero de comunidades detectadas : {len(comms_Leiden.communities)}\")\n",
    "print(f\"Modularidad : {Q_Leiden}\")\n",
    "print(f\"Densidad interna : {mu_Leiden}\")\n",
    "print(f\"Indice de corte : {cut_ratio_Leiden}\")"
   ]
  },
  {
   "cell_type": "markdown",
   "id": "ea5a06bd",
   "metadata": {
    "id": "4e8d8746-6dd5-4250-b68f-9b3fd95b0ff4"
   },
   "source": [
    "### Comparacion Metricas de Evaluacion Interna distintos algoritmos (REVISAR)"
   ]
  },
  {
   "cell_type": "code",
   "execution_count": 320,
   "id": "394dcaeb",
   "metadata": {
    "colab": {
     "background_save": true
    },
    "id": "598c240a-9917-42bf-aa07-44261d66a168"
   },
   "outputs": [
    {
     "data": {
      "text/plain": [
       "<matplotlib.legend.Legend at 0x1fffcf67be0>"
      ]
     },
     "execution_count": 320,
     "metadata": {},
     "output_type": "execute_result"
    },
    {
     "data": {
      "image/png": "[encoded data removed]",
      "text/plain": [
       "<Figure size 1440x2880 with 4 Axes>"
      ]
     },
     "metadata": {
      "needs_background": "light"
     },
     "output_type": "display_data"
    }
   ],
   "source": [
    "#Grafico para comparar metricas de evaluacion interna\n",
    "fig, ((ax1, ax2, ax3, ax4)) = plt.subplots(4,1, figsize=(20,40))\n",
    "ax1.set_title(\"Metricas de evaluacion interna\", fontsize=24)\n",
    "ax1.set_ylabel('Q')\n",
    "ax1.set_xlabel('Resolution')\n",
    "ax1.set_xscale('log')\n",
    "ax1.plot(df_Louvian.Resolucion, df_Louvian.Modularidad, label = 'Louvian')\n",
    "ax1.axhline(Q_LP, linestyle='--', label='Label Propagation', color='C1')\n",
    "ax1.axhline(Q_Leiden, linestyle='--', label='Leiden', color='C2')\n",
    "ax1.legend()\n",
    "\n",
    "ax2.set_ylabel('$\\mu$')\n",
    "ax2.set_xlabel('Resolution')\n",
    "ax2.set_xscale('log')\n",
    "ax2.plot(df_Louvian.Resolucion, df_Louvian[\"Densida Interna\"], label='Louvian')\n",
    "ax2.axhline(mu_LP, linestyle='--', label='Label Propagation', color='C1')\n",
    "ax2.axhline(mu_Leiden, linestyle='--', label='Leiden', color='C2')\n",
    "ax2.legend()\n",
    "\n",
    "ax3.set_ylabel('Indice de Corte')\n",
    "ax3.set_xlabel('Resolution')\n",
    "ax3.set_xscale('log')\n",
    "ax3.plot(df_Louvian.Resolucion, df_Louvian[\"Indice de Corte\"], label='Louvian')\n",
    "ax3.axhline(cut_ratio_LP, linestyle='--', label='Label Propagation', color='C1')\n",
    "ax3.axhline(cut_ratio_Leiden, linestyle='--', label='Leiden', color='C2')\n",
    "ax3.legend()\n",
    "\n",
    "ax4.set_ylabel('N° Comunidades')\n",
    "ax4.set_xlabel('Resolution')\n",
    "ax4.set_xscale('log')\n",
    "ax4.plot(df_Louvian.Resolucion, df_Louvian[\"Numero de Comunidades\"], label='Louvian')\n",
    "ax4.axhline(len(comms_LP.communities), linestyle='--', label='Label Propagation', color='C1')\n",
    "ax4.axhline(len(comms_Leiden.communities), linestyle='--', label='Leiden', color='C2')\n",
    "ax4.set_ylim([0,1000])\n",
    "ax4.legend()\n"
   ]
  },
  {
   "cell_type": "markdown",
   "id": "e7092266",
   "metadata": {
    "id": "5e581b3c-ea18-4444-bbdb-a127a1e39e8a"
   },
   "source": [
    "### Conclusiones(FALTA)"
   ]
  },
  {
   "cell_type": "markdown",
   "id": "8d276656",
   "metadata": {
    "id": "WzYnCVd6oI0f"
   },
   "source": [
    "## **Ejercicio 4: Extracción de etiquetas(FALTA)**\n",
    "\n",
    "En el archivo [etiquetas.csv](https://drive.google.com/file/d/1LWY3VoIRt0xKwEbbtMXYePOGZvgPsQh-/view?usp=sharing) están las etiquetas para un pequeño subconjunto de nodos. Podemos interpretar el valor de la etiqueta como la pertenencia a una determinada clase, donde los usuarios de una misma clase en general tienden a expresar apoyo entre sí.\n",
    "\n",
    "- Determinar quiénes son los usuarios referentes de cada clase (utilizar alguna medida de centralidad calculada sobre el grafo de retweets).\n",
    "- Utiliando los resultados del práctico anterior, determinar si los usuarios de cada clase forman parte de distintas comunidades.\n",
    "\n",
    "**Opcional:** Reconstruir el archivo \"etiquetas.csv\". Para eso, hacer lo siguiente\n",
    "\n",
    "- Construir un grafo en donde los nodos sean usuarios, y donde los enlaces unan dos nodos si entre ellos hubo más respuestas de apoyo que de oposición.\n",
    "- Extraer las dos componentes más grandes del grafo. Esos serán nuestros nodos etiquetados.\n",
    "\n"
   ]
  },
  {
   "cell_type": "markdown",
   "id": "94cdc7e6",
   "metadata": {
    "id": "-t6_Jle9ocaO"
   },
   "source": [
    ".................."
   ]
  },
  {
   "cell_type": "markdown",
   "id": "799692d5",
   "metadata": {
    "id": "Ic4vpFrBoKDf"
   },
   "source": [
    "## **Ejercicio 5: Embedding de nodos (FALTA)**\n",
    "\n",
    "- Generar un embedding del grafo de retweets utilizando el algoritmo `word2vec`.\n",
    "- Reducir a 2 la dimensionalidad del embedding utilizando [PCA](https://scikit-learn.org/stable/modules/generated/sklearn.decomposition.PCA.htmlhttps://scikit-learn.org/stable/modules/generated/sklearn.decomposition.PCA.html) y [t-SNE](https://scikit-learn.org/stable/modules/generated/sklearn.manifold.TSNE.htmlhttps://scikit-learn.org/stable/modules/generated/sklearn.manifold.TSNE.html).\n",
    "- Graficar los embeddings correspondientes a los datos etiquetados. ¿Es posible diferenciar unos de otros?\n",
    "\n",
    "**Opcional:** Graficar además los embeddings de los nodos que forman parte de las comunidades asociadas a cada clase. Determinar si el embedding permite distinguir cada comunidad.\n",
    "\n",
    "### (Opcional: 6. Redes neuronales de grafos)\n",
    "\n",
    "El archivo [word_vectors.csv](https://drive.google.com/file/d/1aoxugyMktKb0NQ8Pf3bdhKvh8BAj7YZz/view?usp=sharing) contiene un embedding de 300 dimensiones para cada tweet, otenido utilizando un modelo preentrenado de [FastText](https://fasttext.cc/). Construir una matriz de features para los nodos tomando, para cada usuario, el promedio de los vectores correspondientes a los tweets que escribió. Utilizando estos features, y tomando como ejemplos etiquetados los usuarios de \"etiquetas.csv\" entrenar una red neuronal de grafos para realizar una clasificación binaria sobre el resto de los nodos. Pueden utilizar como base el siguiente modelo:"
   ]
  },
  {
   "cell_type": "markdown",
   "id": "7bd24167",
   "metadata": {
    "id": "pV8j-0_gosnc"
   },
   "source": [
    ".................."
   ]
  },
  {
   "cell_type": "code",
   "execution_count": null,
   "id": "850f1fa4",
   "metadata": {
    "colab": {
     "background_save": true
    },
    "id": "RcvpRUIhoO94"
   },
   "outputs": [],
   "source": []
  }
 ],
 "metadata": {
  "colab": {
   "name": "",
   "version": ""
  },
  "kernelspec": {
   "display_name": "Python 3 (ipykernel)",
   "language": "python",
   "name": "python3"
  },
  "language_info": {
   "codemirror_mode": {
    "name": "ipython",
    "version": 3
   },
   "file_extension": ".py",
   "mimetype": "text/x-python",
   "name": "python",
   "nbconvert_exporter": "python",
   "pygments_lexer": "ipython3",
   "version": "3.9.1"
  }
 },
 "nbformat": 4,
 "nbformat_minor": 5
}
